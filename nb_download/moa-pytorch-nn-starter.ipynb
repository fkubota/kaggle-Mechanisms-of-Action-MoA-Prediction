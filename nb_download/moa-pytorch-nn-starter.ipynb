{
 "cells": [
  {
   "cell_type": "markdown",
   "execution_count": null,
   "metadata": {
    "papermill": {
     "duration": 0.009121,
     "end_time": "2020-09-08T13:58:46.154904",
     "exception": false,
     "start_time": "2020-09-08T13:58:46.145783",
     "status": "completed"
    },
    "tags": []
   },
   "source": [
    "# About this notebook\n",
    "\n",
    "- PyTorch NN starter code\n",
    "- MultilabelStratifiedKFold 5 folds \n",
    "\n",
    "If this notebook is helpful, feel free to upvote :)"
   ]
  },
  {
   "cell_type": "markdown",
   "execution_count": null,
   "metadata": {
    "papermill": {
     "duration": 0.008966,
     "end_time": "2020-09-08T13:58:46.171673",
     "exception": false,
     "start_time": "2020-09-08T13:58:46.162707",
     "status": "completed"
    },
    "tags": []
   },
   "source": [
    "# Library"
   ]
  },
  {
   "cell_type": "code",
   "execution_count": 1,
   "metadata": {
    "execution": {
     "iopub.execute_input": "2020-09-08T13:58:46.193221Z",
     "iopub.status.busy": "2020-09-08T13:58:46.192262Z",
     "iopub.status.idle": "2020-09-08T13:58:47.177283Z",
     "shell.execute_reply": "2020-09-08T13:58:47.176008Z"
    },
    "papermill": {
     "duration": 0.998011,
     "end_time": "2020-09-08T13:58:47.177459",
     "exception": false,
     "start_time": "2020-09-08T13:58:46.179448",
     "status": "completed"
    },
    "tags": []
   },
   "outputs": [],
   "source": [
    "import sys\n",
    "sys.path.append('../input/iterative-stratification/iterative-stratification-master')\n",
    "from iterstrat.ml_stratifiers import MultilabelStratifiedKFold"
   ]
  },
  {
   "cell_type": "code",
   "execution_count": 2,
   "metadata": {
    "_cell_guid": "b1076dfc-b9ad-4769-8c92-a6c4dae69d19",
    "_uuid": "8f2839f25d086af736a60e9eeb907d3b93b6e0e5",
    "execution": {
     "iopub.execute_input": "2020-09-08T13:58:47.202786Z",
     "iopub.status.busy": "2020-09-08T13:58:47.201985Z",
     "iopub.status.idle": "2020-09-08T13:58:49.136558Z",
     "shell.execute_reply": "2020-09-08T13:58:49.135637Z"
    },
    "papermill": {
     "duration": 1.950692,
     "end_time": "2020-09-08T13:58:49.136686",
     "exception": false,
     "start_time": "2020-09-08T13:58:47.185994",
     "status": "completed"
    },
    "tags": []
   },
   "outputs": [],
   "source": [
    "import os\n",
    "import gc\n",
    "import random\n",
    "import math\n",
    "import time\n",
    "\n",
    "import numpy as np\n",
    "import pandas as pd\n",
    "\n",
    "from sklearn.model_selection import StratifiedKFold, GroupKFold, KFold\n",
    "from sklearn.metrics import log_loss\n",
    "\n",
    "import category_encoders as ce\n",
    "\n",
    "import torch\n",
    "import torch.nn as nn\n",
    "from torch.utils.data import DataLoader, Dataset\n",
    "import torch.optim as optim\n",
    "import torch.nn.functional as F\n",
    "\n",
    "import warnings\n",
    "warnings.filterwarnings(\"ignore\")\n",
    "\n",
    "device = torch.device('cuda' if torch.cuda.is_available() else 'cpu')"
   ]
  },
  {
   "cell_type": "markdown",
   "execution_count": null,
   "metadata": {
    "papermill": {
     "duration": 0.007314,
     "end_time": "2020-09-08T13:58:49.151697",
     "exception": false,
     "start_time": "2020-09-08T13:58:49.144383",
     "status": "completed"
    },
    "tags": []
   },
   "source": [
    "# Utils"
   ]
  },
  {
   "cell_type": "code",
   "execution_count": 3,
   "metadata": {
    "execution": {
     "iopub.execute_input": "2020-09-08T13:58:49.177284Z",
     "iopub.status.busy": "2020-09-08T13:58:49.176543Z",
     "iopub.status.idle": "2020-09-08T13:58:49.189249Z",
     "shell.execute_reply": "2020-09-08T13:58:49.188704Z"
    },
    "papermill": {
     "duration": 0.030233,
     "end_time": "2020-09-08T13:58:49.189342",
     "exception": false,
     "start_time": "2020-09-08T13:58:49.159109",
     "status": "completed"
    },
    "tags": []
   },
   "outputs": [],
   "source": [
    "def get_logger(filename='log'):\n",
    "    from logging import getLogger, INFO, StreamHandler, FileHandler, Formatter\n",
    "    logger = getLogger(__name__)\n",
    "    logger.setLevel(INFO)\n",
    "    handler1 = StreamHandler()\n",
    "    handler1.setFormatter(Formatter(\"%(message)s\"))\n",
    "    handler2 = FileHandler(filename=f\"{filename}.log\")\n",
    "    handler2.setFormatter(Formatter(\"%(message)s\"))\n",
    "    logger.addHandler(handler1)\n",
    "    logger.addHandler(handler2)\n",
    "    return logger\n",
    "\n",
    "logger = get_logger()\n",
    "\n",
    "\n",
    "def seed_everything(seed=42):\n",
    "    random.seed(seed)\n",
    "    os.environ['PYTHONHASHSEED'] = str(seed)\n",
    "    np.random.seed(seed)\n",
    "    torch.manual_seed(seed)\n",
    "    torch.cuda.manual_seed(seed)\n",
    "    torch.backends.cudnn.deterministic = True\n",
    "    \n",
    "seed_everything(seed=42)"
   ]
  },
  {
   "cell_type": "markdown",
   "execution_count": null,
   "metadata": {
    "papermill": {
     "duration": 0.007091,
     "end_time": "2020-09-08T13:58:49.204038",
     "exception": false,
     "start_time": "2020-09-08T13:58:49.196947",
     "status": "completed"
    },
    "tags": []
   },
   "source": [
    "# Data Loading"
   ]
  },
  {
   "cell_type": "code",
   "execution_count": 4,
   "metadata": {
    "execution": {
     "iopub.execute_input": "2020-09-08T13:58:49.222867Z",
     "iopub.status.busy": "2020-09-08T13:58:49.222260Z",
     "iopub.status.idle": "2020-09-08T13:58:49.230823Z",
     "shell.execute_reply": "2020-09-08T13:58:49.231354Z"
    },
    "papermill": {
     "duration": 0.020131,
     "end_time": "2020-09-08T13:58:49.231518",
     "exception": false,
     "start_time": "2020-09-08T13:58:49.211387",
     "status": "completed"
    },
    "tags": []
   },
   "outputs": [
    {
     "data": {
      "text/plain": [
       "['sample_submission.csv',\n",
       " 'train_targets_scored.csv',\n",
       " 'train_targets_nonscored.csv',\n",
       " 'train_features.csv',\n",
       " 'test_features.csv']"
      ]
     },
     "execution_count": 4,
     "metadata": {},
     "output_type": "execute_result"
    }
   ],
   "source": [
    "os.listdir('../input/lish-moa')"
   ]
  },
  {
   "cell_type": "code",
   "execution_count": 5,
   "metadata": {
    "_cell_guid": "79c7e3d0-c299-4dcb-8224-4455121ee9b0",
    "_uuid": "d629ff2d2480ee46fbb7e2d37f6b5fab8052498a",
    "execution": {
     "iopub.execute_input": "2020-09-08T13:58:49.254972Z",
     "iopub.status.busy": "2020-09-08T13:58:49.253876Z",
     "iopub.status.idle": "2020-09-08T13:58:55.736099Z",
     "shell.execute_reply": "2020-09-08T13:58:55.734864Z"
    },
    "papermill": {
     "duration": 6.496887,
     "end_time": "2020-09-08T13:58:55.736222",
     "exception": false,
     "start_time": "2020-09-08T13:58:49.239335",
     "status": "completed"
    },
    "tags": []
   },
   "outputs": [],
   "source": [
    "train_features = pd.read_csv('../input/lish-moa/train_features.csv')\n",
    "train_targets_scored = pd.read_csv('../input/lish-moa/train_targets_scored.csv')\n",
    "train_targets_nonscored = pd.read_csv('../input/lish-moa/train_targets_nonscored.csv')\n",
    "test_features = pd.read_csv('../input/lish-moa/test_features.csv')\n",
    "submission = pd.read_csv('../input/lish-moa/sample_submission.csv')"
   ]
  },
  {
   "cell_type": "code",
   "execution_count": 6,
   "metadata": {
    "execution": {
     "iopub.execute_input": "2020-09-08T13:58:55.762981Z",
     "iopub.status.busy": "2020-09-08T13:58:55.761701Z",
     "iopub.status.idle": "2020-09-08T13:58:55.997813Z",
     "shell.execute_reply": "2020-09-08T13:58:55.998342Z"
    },
    "papermill": {
     "duration": 0.253831,
     "end_time": "2020-09-08T13:58:55.998511",
     "exception": false,
     "start_time": "2020-09-08T13:58:55.744680",
     "status": "completed"
    },
    "tags": []
   },
   "outputs": [
    {
     "data": {
      "text/plain": [
       "cp_type\n",
       "ctl_vehicle        0\n",
       "trt_cp         16844\n",
       "dtype: int64"
      ]
     },
     "execution_count": 6,
     "metadata": {},
     "output_type": "execute_result"
    }
   ],
   "source": [
    "# ref: https://www.kaggle.com/c/lish-moa/discussion/180165\n",
    "# check if labels for 'ctl_vehicle' are all 0.\n",
    "train = train_features.merge(train_targets_scored, on='sig_id')\n",
    "target_cols = [c for c in train_targets_scored.columns if c not in ['sig_id']]\n",
    "cols = target_cols + ['cp_type']\n",
    "train[cols].groupby('cp_type').sum().sum(1)"
   ]
  },
  {
   "cell_type": "markdown",
   "execution_count": null,
   "metadata": {
    "papermill": {
     "duration": 0.007676,
     "end_time": "2020-09-08T13:58:56.015585",
     "exception": false,
     "start_time": "2020-09-08T13:58:56.007909",
     "status": "completed"
    },
    "tags": []
   },
   "source": [
    "- labels for 'ctl_vehicle' are all 0."
   ]
  },
  {
   "cell_type": "code",
   "execution_count": 7,
   "metadata": {
    "execution": {
     "iopub.execute_input": "2020-09-08T13:58:56.043408Z",
     "iopub.status.busy": "2020-09-08T13:58:56.042271Z",
     "iopub.status.idle": "2020-09-08T13:58:56.208019Z",
     "shell.execute_reply": "2020-09-08T13:58:56.208600Z"
    },
    "papermill": {
     "duration": 0.184939,
     "end_time": "2020-09-08T13:58:56.208766",
     "exception": false,
     "start_time": "2020-09-08T13:58:56.023827",
     "status": "completed"
    },
    "tags": []
   },
   "outputs": [
    {
     "name": "stdout",
     "output_type": "stream",
     "text": [
      "(23814, 876) (3982, 876)\n",
      "(21948, 1082) (3624, 876)\n"
     ]
    }
   ],
   "source": [
    "# constrcut train&test except 'cp_type'=='ctl_vehicle' data\n",
    "print(train_features.shape, test_features.shape)\n",
    "train = train[train['cp_type']!='ctl_vehicle'].reset_index(drop=True)\n",
    "test = test_features[test_features['cp_type']!='ctl_vehicle'].reset_index(drop=True)\n",
    "print(train.shape, test.shape)"
   ]
  },
  {
   "cell_type": "markdown",
   "execution_count": null,
   "metadata": {
    "papermill": {
     "duration": 0.00855,
     "end_time": "2020-09-08T13:58:56.226376",
     "exception": false,
     "start_time": "2020-09-08T13:58:56.217826",
     "status": "completed"
    },
    "tags": []
   },
   "source": [
    "# CV split"
   ]
  },
  {
   "cell_type": "code",
   "execution_count": 8,
   "metadata": {
    "execution": {
     "iopub.execute_input": "2020-09-08T13:58:56.251981Z",
     "iopub.status.busy": "2020-09-08T13:58:56.250632Z",
     "iopub.status.idle": "2020-09-08T13:58:58.019641Z",
     "shell.execute_reply": "2020-09-08T13:58:58.020506Z"
    },
    "papermill": {
     "duration": 1.785415,
     "end_time": "2020-09-08T13:58:58.020651",
     "exception": false,
     "start_time": "2020-09-08T13:58:56.235236",
     "status": "completed"
    },
    "tags": []
   },
   "outputs": [
    {
     "name": "stdout",
     "output_type": "stream",
     "text": [
      "(21948, 1083)\n"
     ]
    }
   ],
   "source": [
    "folds = train.copy()\n",
    "Fold = MultilabelStratifiedKFold(n_splits=5, shuffle=True, random_state=42)\n",
    "for n, (train_index, val_index) in enumerate(Fold.split(folds, folds[target_cols])):\n",
    "    folds.loc[val_index, 'fold'] = int(n)\n",
    "folds['fold'] = folds['fold'].astype(int)\n",
    "print(folds.shape)"
   ]
  },
  {
   "cell_type": "markdown",
   "execution_count": null,
   "metadata": {
    "papermill": {
     "duration": 0.007618,
     "end_time": "2020-09-08T13:58:58.036180",
     "exception": false,
     "start_time": "2020-09-08T13:58:58.028562",
     "status": "completed"
    },
    "tags": []
   },
   "source": [
    "# Dataset"
   ]
  },
  {
   "cell_type": "code",
   "execution_count": 9,
   "metadata": {
    "execution": {
     "iopub.execute_input": "2020-09-08T13:58:58.065233Z",
     "iopub.status.busy": "2020-09-08T13:58:58.063712Z",
     "iopub.status.idle": "2020-09-08T13:58:58.066385Z",
     "shell.execute_reply": "2020-09-08T13:58:58.066873Z"
    },
    "papermill": {
     "duration": 0.023106,
     "end_time": "2020-09-08T13:58:58.066983",
     "exception": false,
     "start_time": "2020-09-08T13:58:58.043877",
     "status": "completed"
    },
    "tags": []
   },
   "outputs": [],
   "source": [
    "class TrainDataset(Dataset):\n",
    "    def __init__(self, df, num_features, cat_features, labels):\n",
    "        self.cont_values = df[num_features].values\n",
    "        self.cate_values = df[cat_features].values\n",
    "        self.labels = labels\n",
    "        \n",
    "    def __len__(self):\n",
    "        return len(self.cont_values)\n",
    "\n",
    "    def __getitem__(self, idx):\n",
    "        cont_x = torch.FloatTensor(self.cont_values[idx])\n",
    "        cate_x = torch.LongTensor(self.cate_values[idx])\n",
    "        label = torch.tensor(self.labels[idx]).float()\n",
    "        \n",
    "        return cont_x, cate_x, label\n",
    "    \n",
    "\n",
    "class TestDataset(Dataset):\n",
    "    def __init__(self, df, num_features, cat_features):\n",
    "        self.cont_values = df[num_features].values\n",
    "        self.cate_values = df[cat_features].values\n",
    "        \n",
    "    def __len__(self):\n",
    "        return len(self.cont_values)\n",
    "\n",
    "    def __getitem__(self, idx):\n",
    "        cont_x = torch.FloatTensor(self.cont_values[idx])\n",
    "        cate_x = torch.LongTensor(self.cate_values[idx])\n",
    "        \n",
    "        return cont_x, cate_x"
   ]
  },
  {
   "cell_type": "code",
   "execution_count": 10,
   "metadata": {
    "execution": {
     "iopub.execute_input": "2020-09-08T13:58:58.091211Z",
     "iopub.status.busy": "2020-09-08T13:58:58.090254Z",
     "iopub.status.idle": "2020-09-08T13:58:58.255818Z",
     "shell.execute_reply": "2020-09-08T13:58:58.255246Z"
    },
    "papermill": {
     "duration": 0.181326,
     "end_time": "2020-09-08T13:58:58.255956",
     "exception": false,
     "start_time": "2020-09-08T13:58:58.074630",
     "status": "completed"
    },
    "tags": []
   },
   "outputs": [],
   "source": [
    "cat_features = ['cp_time', 'cp_dose']\n",
    "num_features = [c for c in train.columns if train.dtypes[c] != 'object']\n",
    "num_features = [c for c in num_features if c not in cat_features]\n",
    "num_features = [c for c in num_features if c not in target_cols]\n",
    "target = train[target_cols].values\n",
    "\n",
    "def cate2num(df):\n",
    "    df['cp_time'] = df['cp_time'].map({24: 0, 48: 1, 72: 2})\n",
    "    df['cp_dose'] = df['cp_dose'].map({'D1': 3, 'D2': 4})\n",
    "    return df\n",
    "\n",
    "train = cate2num(train)\n",
    "test = cate2num(test)"
   ]
  },
  {
   "cell_type": "markdown",
   "execution_count": null,
   "metadata": {
    "papermill": {
     "duration": 0.009087,
     "end_time": "2020-09-08T13:58:58.272946",
     "exception": false,
     "start_time": "2020-09-08T13:58:58.263859",
     "status": "completed"
    },
    "tags": []
   },
   "source": [
    "# MODEL"
   ]
  },
  {
   "cell_type": "code",
   "execution_count": 11,
   "metadata": {
    "execution": {
     "iopub.execute_input": "2020-09-08T13:58:58.304610Z",
     "iopub.status.busy": "2020-09-08T13:58:58.303602Z",
     "iopub.status.idle": "2020-09-08T13:58:58.309328Z",
     "shell.execute_reply": "2020-09-08T13:58:58.310065Z"
    },
    "papermill": {
     "duration": 0.02611,
     "end_time": "2020-09-08T13:58:58.310265",
     "exception": false,
     "start_time": "2020-09-08T13:58:58.284155",
     "status": "completed"
    },
    "tags": []
   },
   "outputs": [],
   "source": [
    "class CFG:\n",
    "    max_grad_norm=1000\n",
    "    gradient_accumulation_steps=1\n",
    "    hidden_size=512\n",
    "    dropout=0.5\n",
    "    lr=1e-2\n",
    "    weight_decay=1e-6\n",
    "    batch_size=32\n",
    "    epochs=20\n",
    "    #total_cate_size=5\n",
    "    #emb_size=4\n",
    "    num_features=num_features\n",
    "    cat_features=cat_features\n",
    "    target_cols=target_cols"
   ]
  },
  {
   "cell_type": "code",
   "execution_count": 12,
   "metadata": {
    "execution": {
     "iopub.execute_input": "2020-09-08T13:58:58.346209Z",
     "iopub.status.busy": "2020-09-08T13:58:58.344092Z",
     "iopub.status.idle": "2020-09-08T13:58:58.351934Z",
     "shell.execute_reply": "2020-09-08T13:58:58.353533Z"
    },
    "papermill": {
     "duration": 0.031826,
     "end_time": "2020-09-08T13:58:58.353723",
     "exception": false,
     "start_time": "2020-09-08T13:58:58.321897",
     "status": "completed"
    },
    "tags": []
   },
   "outputs": [],
   "source": [
    "class TabularNN(nn.Module):\n",
    "    def __init__(self, cfg):\n",
    "        super().__init__()\n",
    "        self.mlp = nn.Sequential(\n",
    "                          nn.Linear(len(cfg.num_features), cfg.hidden_size),\n",
    "                          nn.BatchNorm1d(cfg.hidden_size),\n",
    "                          nn.Dropout(cfg.dropout),\n",
    "                          nn.PReLU(),\n",
    "                          nn.Linear(cfg.hidden_size, cfg.hidden_size),\n",
    "                          nn.BatchNorm1d(cfg.hidden_size),\n",
    "                          nn.Dropout(cfg.dropout),\n",
    "                          nn.PReLU(),\n",
    "                          nn.Linear(cfg.hidden_size, len(cfg.target_cols)),\n",
    "                          )\n",
    "\n",
    "    def forward(self, cont_x, cate_x):\n",
    "        # no use of cate_x yet\n",
    "        x = self.mlp(cont_x)\n",
    "        return x"
   ]
  },
  {
   "cell_type": "code",
   "execution_count": 13,
   "metadata": {
    "execution": {
     "iopub.execute_input": "2020-09-08T13:58:58.389602Z",
     "iopub.status.busy": "2020-09-08T13:58:58.388737Z",
     "iopub.status.idle": "2020-09-08T13:58:58.422648Z",
     "shell.execute_reply": "2020-09-08T13:58:58.426337Z"
    },
    "papermill": {
     "duration": 0.060161,
     "end_time": "2020-09-08T13:58:58.426537",
     "exception": false,
     "start_time": "2020-09-08T13:58:58.366376",
     "status": "completed"
    },
    "tags": []
   },
   "outputs": [],
   "source": [
    "def train_fn(train_loader, model, optimizer, epoch, scheduler, device):\n",
    "    \n",
    "    losses = AverageMeter()\n",
    "\n",
    "    model.train()\n",
    "\n",
    "    for step, (cont_x, cate_x, y) in enumerate(train_loader):\n",
    "        \n",
    "        cont_x, cate_x, y = cont_x.to(device), cate_x.to(device), y.to(device)\n",
    "        batch_size = cont_x.size(0)\n",
    "\n",
    "        pred = model(cont_x, cate_x)\n",
    "        \n",
    "        loss = nn.BCEWithLogitsLoss()(pred, y)\n",
    "        losses.update(loss.item(), batch_size)\n",
    "\n",
    "        if CFG.gradient_accumulation_steps > 1:\n",
    "            loss = loss / CFG.gradient_accumulation_steps\n",
    "\n",
    "        loss.backward()\n",
    "        \n",
    "        grad_norm = torch.nn.utils.clip_grad_norm_(model.parameters(), CFG.max_grad_norm)\n",
    "\n",
    "        if (step + 1) % CFG.gradient_accumulation_steps == 0:\n",
    "            scheduler.step()\n",
    "            optimizer.step()\n",
    "            optimizer.zero_grad()\n",
    "        \n",
    "    return losses.avg\n",
    "\n",
    "\n",
    "def validate_fn(valid_loader, model, device):\n",
    "    \n",
    "    losses = AverageMeter()\n",
    "\n",
    "    model.eval()\n",
    "    val_preds = []\n",
    "\n",
    "    for step, (cont_x, cate_x, y) in enumerate(valid_loader):\n",
    "        \n",
    "        cont_x, cate_x, y = cont_x.to(device), cate_x.to(device), y.to(device)\n",
    "        batch_size = cont_x.size(0)\n",
    "\n",
    "        with torch.no_grad():\n",
    "            pred = model(cont_x, cate_x)\n",
    "            \n",
    "        loss = nn.BCEWithLogitsLoss()(pred, y)\n",
    "        losses.update(loss.item(), batch_size)\n",
    "\n",
    "        val_preds.append(pred.sigmoid().detach().cpu().numpy())\n",
    "\n",
    "        if CFG.gradient_accumulation_steps > 1:\n",
    "            loss = loss / CFG.gradient_accumulation_steps\n",
    "\n",
    "    val_preds = np.concatenate(val_preds)\n",
    "        \n",
    "    return losses.avg, val_preds\n",
    "\n",
    "\n",
    "def inference_fn(test_loader, model, device):\n",
    "\n",
    "    model.eval()\n",
    "    preds = []\n",
    "\n",
    "    for step, (cont_x, cate_x) in enumerate(test_loader):\n",
    "\n",
    "        cont_x,  cate_x = cont_x.to(device), cate_x.to(device)\n",
    "\n",
    "        with torch.no_grad():\n",
    "            pred = model(cont_x, cate_x)\n",
    "\n",
    "        preds.append(pred.sigmoid().detach().cpu().numpy())\n",
    "\n",
    "    preds = np.concatenate(preds)\n",
    "\n",
    "    return preds\n",
    "\n",
    "\n",
    "class AverageMeter(object):\n",
    "    \"\"\"Computes and stores the average and current value\"\"\"\n",
    "    def __init__(self):\n",
    "        self.reset()\n",
    "\n",
    "    def reset(self):\n",
    "        self.val = 0\n",
    "        self.avg = 0\n",
    "        self.sum = 0\n",
    "        self.count = 0\n",
    "\n",
    "    def update(self, val, n=1):\n",
    "        self.val = val\n",
    "        self.sum += val * n\n",
    "        self.count += n\n",
    "        self.avg = self.sum / self.count"
   ]
  },
  {
   "cell_type": "code",
   "execution_count": 14,
   "metadata": {
    "execution": {
     "iopub.execute_input": "2020-09-08T13:58:58.459240Z",
     "iopub.status.busy": "2020-09-08T13:58:58.458364Z",
     "iopub.status.idle": "2020-09-08T13:58:58.492244Z",
     "shell.execute_reply": "2020-09-08T13:58:58.493256Z"
    },
    "papermill": {
     "duration": 0.055118,
     "end_time": "2020-09-08T13:58:58.493441",
     "exception": false,
     "start_time": "2020-09-08T13:58:58.438323",
     "status": "completed"
    },
    "tags": []
   },
   "outputs": [],
   "source": [
    "def run_single_nn(cfg, train, test, folds, num_features, cat_features, target, device, fold_num=0, seed=42):\n",
    "    \n",
    "    # Set seed\n",
    "    logger.info(f'Set seed {seed}')\n",
    "    seed_everything(seed=seed)\n",
    "\n",
    "    # loader\n",
    "    trn_idx = folds[folds['fold'] != fold_num].index\n",
    "    val_idx = folds[folds['fold'] == fold_num].index\n",
    "    train_folds = train.loc[trn_idx].reset_index(drop=True)\n",
    "    valid_folds = train.loc[val_idx].reset_index(drop=True)\n",
    "    train_target = target[trn_idx]\n",
    "    valid_target = target[val_idx]\n",
    "    train_dataset = TrainDataset(train_folds, num_features, cat_features, train_target)\n",
    "    valid_dataset = TrainDataset(valid_folds, num_features, cat_features, valid_target)\n",
    "    train_loader = DataLoader(train_dataset, batch_size=cfg.batch_size, shuffle=True, \n",
    "                              num_workers=4, pin_memory=True, drop_last=True)\n",
    "    valid_loader = DataLoader(valid_dataset, batch_size=cfg.batch_size, shuffle=False, \n",
    "                              num_workers=4, pin_memory=True, drop_last=False)\n",
    "\n",
    "    # model\n",
    "    model = TabularNN(cfg)\n",
    "    model.to(device)\n",
    "    optimizer = optim.Adam(model.parameters(), lr=cfg.lr, weight_decay=cfg.weight_decay)\n",
    "    scheduler = optim.lr_scheduler.OneCycleLR(optimizer=optimizer, pct_start=0.1, div_factor=1e3, \n",
    "                                              max_lr=1e-2, epochs=cfg.epochs, steps_per_epoch=len(train_loader))\n",
    "\n",
    "    # log\n",
    "    log_df = pd.DataFrame(columns=(['EPOCH']+['TRAIN_LOSS']+['VALID_LOSS']) )\n",
    "\n",
    "    # train & validate\n",
    "    best_loss = np.inf\n",
    "    for epoch in range(cfg.epochs):\n",
    "        train_loss = train_fn(train_loader, model, optimizer, epoch, scheduler, device)\n",
    "        valid_loss, val_preds = validate_fn(valid_loader, model, device)\n",
    "        log_row = {'EPOCH': epoch, \n",
    "                   'TRAIN_LOSS': train_loss,\n",
    "                   'VALID_LOSS': valid_loss,\n",
    "                  }\n",
    "        log_df = log_df.append(pd.DataFrame(log_row, index=[0]), sort=False)\n",
    "        #logger.info(log_df.tail(1))\n",
    "        if valid_loss < best_loss:\n",
    "            logger.info(f'epoch{epoch} save best model... {valid_loss}')\n",
    "            best_loss = valid_loss\n",
    "            oof = np.zeros((len(train), len(cfg.target_cols)))\n",
    "            oof[val_idx] = val_preds\n",
    "            torch.save(model.state_dict(), f\"fold{fold_num}_seed{seed}.pth\")\n",
    "\n",
    "    # predictions\n",
    "    test_dataset = TestDataset(test, num_features, cat_features)\n",
    "    test_loader = DataLoader(test_dataset, batch_size=cfg.batch_size, shuffle=False, \n",
    "                             num_workers=4, pin_memory=True)\n",
    "    model = TabularNN(cfg)\n",
    "    model.load_state_dict(torch.load(f\"fold{fold_num}_seed{seed}.pth\"))\n",
    "    model.to(device)\n",
    "    predictions = inference_fn(test_loader, model, device)\n",
    "    \n",
    "    # del\n",
    "    torch.cuda.empty_cache()\n",
    "\n",
    "    return oof, predictions\n",
    "\n",
    "\n",
    "def run_kfold_nn(cfg, train, test, folds, num_features, cat_features, target, device, n_fold=5, seed=42):\n",
    "\n",
    "    oof = np.zeros((len(train), len(cfg.target_cols)))\n",
    "    predictions = np.zeros((len(test), len(cfg.target_cols)))\n",
    "\n",
    "    for _fold in range(n_fold):\n",
    "        logger.info(\"Fold {}\".format(_fold))\n",
    "        _oof, _predictions = run_single_nn(cfg,\n",
    "                                           train,\n",
    "                                           test,\n",
    "                                           folds,\n",
    "                                           num_features, \n",
    "                                           cat_features,\n",
    "                                           target, \n",
    "                                           device,\n",
    "                                           fold_num=_fold,\n",
    "                                           seed=seed)\n",
    "        oof += _oof\n",
    "        predictions += _predictions / n_fold\n",
    "\n",
    "    score = 0\n",
    "    for i in range(target.shape[1]):\n",
    "        _score = log_loss(target[:,i], oof[:,i])\n",
    "        score += _score / target.shape[1]\n",
    "    logger.info(f\"CV score: {score}\")\n",
    "    \n",
    "    return oof, predictions"
   ]
  },
  {
   "cell_type": "code",
   "execution_count": 15,
   "metadata": {
    "execution": {
     "iopub.execute_input": "2020-09-08T13:58:58.526361Z",
     "iopub.status.busy": "2020-09-08T13:58:58.525507Z",
     "iopub.status.idle": "2020-09-08T14:25:57.161365Z",
     "shell.execute_reply": "2020-09-08T14:25:57.161997Z"
    },
    "papermill": {
     "duration": 1618.657617,
     "end_time": "2020-09-08T14:25:57.162167",
     "exception": false,
     "start_time": "2020-09-08T13:58:58.504550",
     "status": "completed"
    },
    "tags": []
   },
   "outputs": [
    {
     "name": "stderr",
     "output_type": "stream",
     "text": [
      "Fold 0\n",
      "Set seed 0\n",
      "epoch0 save best model... 0.02072504879588554\n",
      "epoch1 save best model... 0.01885875459030644\n",
      "epoch2 save best model... 0.018201569412200625\n",
      "epoch3 save best model... 0.017712144021598243\n",
      "epoch5 save best model... 0.01729011652791758\n",
      "epoch9 save best model... 0.01726325863000676\n",
      "epoch10 save best model... 0.01706789717298841\n",
      "epoch11 save best model... 0.017015306009213037\n",
      "epoch13 save best model... 0.016772634360795003\n",
      "epoch14 save best model... 0.016614327376076193\n",
      "epoch15 save best model... 0.01640827251653397\n",
      "epoch16 save best model... 0.01632483615105068\n",
      "epoch17 save best model... 0.01629132562633052\n",
      "Fold 1\n",
      "Set seed 0\n",
      "epoch0 save best model... 0.02080598691465643\n",
      "epoch2 save best model... 0.01828599851705762\n",
      "epoch3 save best model... 0.0177639062972506\n",
      "epoch4 save best model... 0.017489748627185008\n",
      "epoch6 save best model... 0.01732716889360364\n",
      "epoch9 save best model... 0.017303740795795088\n",
      "epoch10 save best model... 0.017290151843924184\n",
      "epoch11 save best model... 0.016991642455237328\n",
      "epoch13 save best model... 0.01681251287341525\n",
      "epoch14 save best model... 0.016756701751151768\n",
      "epoch15 save best model... 0.01669165127335757\n",
      "epoch16 save best model... 0.016587386915040178\n",
      "epoch17 save best model... 0.01653687292391727\n",
      "epoch18 save best model... 0.016526119597680477\n",
      "Fold 2\n",
      "Set seed 0\n",
      "epoch0 save best model... 0.020358985794530313\n",
      "epoch1 save best model... 0.01859974036322969\n",
      "epoch2 save best model... 0.017755954718401013\n",
      "epoch3 save best model... 0.017409785483461098\n",
      "epoch4 save best model... 0.017333169439100925\n",
      "epoch5 save best model... 0.01702214923438375\n",
      "epoch9 save best model... 0.016777489351532636\n",
      "epoch11 save best model... 0.016644756682302\n",
      "epoch12 save best model... 0.016552730582698613\n",
      "epoch13 save best model... 0.01634383157844572\n",
      "epoch15 save best model... 0.01607734813062293\n",
      "epoch16 save best model... 0.015942284822087132\n",
      "epoch17 save best model... 0.01589036296172915\n",
      "epoch18 save best model... 0.015875718861268304\n",
      "epoch19 save best model... 0.015864032413619517\n",
      "Fold 3\n",
      "Set seed 0\n",
      "epoch0 save best model... 0.02009429075248149\n",
      "epoch2 save best model... 0.017956147101922025\n",
      "epoch3 save best model... 0.01762245876082391\n",
      "epoch4 save best model... 0.01755149990939673\n",
      "epoch5 save best model... 0.01739676938071881\n",
      "epoch6 save best model... 0.017392734484428834\n",
      "epoch7 save best model... 0.017291871917376758\n",
      "epoch8 save best model... 0.01722961190986131\n",
      "epoch9 save best model... 0.017091593427630246\n",
      "epoch10 save best model... 0.0170555056719818\n",
      "epoch11 save best model... 0.016791388541375178\n",
      "epoch12 save best model... 0.016782517647179765\n",
      "epoch13 save best model... 0.016630671733824837\n",
      "epoch14 save best model... 0.01649178754801359\n",
      "epoch15 save best model... 0.016291615619389913\n",
      "epoch16 save best model... 0.01624978118849778\n",
      "epoch17 save best model... 0.016161726017170724\n",
      "Fold 4\n",
      "Set seed 0\n",
      "epoch0 save best model... 0.02050326069815674\n",
      "epoch1 save best model... 0.0185670855500298\n",
      "epoch2 save best model... 0.018292890488804336\n",
      "epoch3 save best model... 0.017838117330213916\n",
      "epoch4 save best model... 0.017760301429814836\n",
      "epoch5 save best model... 0.017508488990863845\n",
      "epoch6 save best model... 0.017328339915550307\n",
      "epoch9 save best model... 0.017287332886703928\n",
      "epoch10 save best model... 0.017153988431695247\n",
      "epoch11 save best model... 0.01712618312017776\n",
      "epoch12 save best model... 0.01694347872191904\n",
      "epoch14 save best model... 0.016629315086437346\n",
      "epoch15 save best model... 0.016531838296801632\n",
      "epoch16 save best model... 0.01640188703018519\n",
      "epoch17 save best model... 0.016396172890449392\n",
      "epoch19 save best model... 0.016392912525334792\n",
      "CV score: 0.01624723516195121\n",
      "Fold 0\n",
      "Set seed 1\n",
      "epoch0 save best model... 0.02205229545678256\n",
      "epoch1 save best model... 0.01890566665933792\n",
      "epoch2 save best model... 0.018117207466945017\n",
      "epoch3 save best model... 0.01759268954387762\n",
      "epoch4 save best model... 0.017527690144989783\n",
      "epoch6 save best model... 0.017496691811363083\n",
      "epoch7 save best model... 0.017378226746561042\n",
      "epoch8 save best model... 0.01737763991787317\n",
      "epoch9 save best model... 0.01729824267590847\n",
      "epoch10 save best model... 0.01705706037224561\n",
      "epoch11 save best model... 0.017038581750285654\n",
      "epoch12 save best model... 0.016810849221987577\n",
      "epoch13 save best model... 0.01672549615476221\n",
      "epoch14 save best model... 0.016498154825223335\n",
      "epoch15 save best model... 0.01638818989234185\n",
      "epoch16 save best model... 0.016318761618438777\n",
      "epoch18 save best model... 0.016278398230009986\n",
      "Fold 1\n",
      "Set seed 1\n",
      "epoch0 save best model... 0.02074560809939896\n",
      "epoch1 save best model... 0.019513039062635504\n",
      "epoch2 save best model... 0.01806102769283879\n",
      "epoch3 save best model... 0.01775333406340017\n",
      "epoch4 save best model... 0.017713127873311824\n",
      "epoch5 save best model... 0.017474644062595107\n",
      "epoch6 save best model... 0.017387005745312347\n",
      "epoch7 save best model... 0.017385032076329198\n",
      "epoch8 save best model... 0.01723043117799493\n",
      "epoch11 save best model... 0.01705401168291824\n",
      "epoch12 save best model... 0.016978927797601816\n",
      "epoch13 save best model... 0.016934093486746786\n",
      "epoch14 save best model... 0.01673878725439921\n",
      "epoch15 save best model... 0.01654636302033698\n",
      "epoch16 save best model... 0.016440467617065056\n",
      "epoch17 save best model... 0.016426216660742066\n",
      "epoch19 save best model... 0.01642013222810755\n",
      "Fold 2\n",
      "Set seed 1\n",
      "epoch0 save best model... 0.020608031289177948\n",
      "epoch1 save best model... 0.01884659656804538\n",
      "epoch2 save best model... 0.017777081670850264\n",
      "epoch3 save best model... 0.01733035329002764\n",
      "epoch4 save best model... 0.017188928392837765\n",
      "epoch5 save best model... 0.017014185176543954\n",
      "epoch9 save best model... 0.016836306056668516\n",
      "epoch10 save best model... 0.016830786033288428\n",
      "epoch11 save best model... 0.016711929834034658\n",
      "epoch12 save best model... 0.01658069696082161\n",
      "epoch13 save best model... 0.016455185159957676\n",
      "epoch14 save best model... 0.016116074450427783\n",
      "epoch15 save best model... 0.016058530578273906\n",
      "epoch16 save best model... 0.0159737534936043\n",
      "epoch17 save best model... 0.01587788378393312\n",
      "epoch18 save best model... 0.015875035195806\n",
      "epoch19 save best model... 0.01586826328072747\n",
      "Fold 3\n",
      "Set seed 1\n",
      "epoch0 save best model... 0.02000957841991292\n",
      "epoch1 save best model... 0.018659246317906504\n",
      "epoch2 save best model... 0.018003482796285716\n",
      "epoch3 save best model... 0.01764786066932939\n",
      "epoch4 save best model... 0.01759422901882058\n",
      "epoch5 save best model... 0.017214339677083194\n",
      "epoch9 save best model... 0.01709223992036388\n",
      "epoch11 save best model... 0.016987618783611914\n",
      "epoch13 save best model... 0.016705733180419458\n",
      "epoch14 save best model... 0.016495753306649406\n",
      "epoch15 save best model... 0.01630920424064566\n",
      "epoch16 save best model... 0.016191475408189934\n",
      "Fold 4\n",
      "Set seed 1\n",
      "epoch0 save best model... 0.019799988643845766\n",
      "epoch1 save best model... 0.019336767911853295\n",
      "epoch2 save best model... 0.01827702644743886\n",
      "epoch3 save best model... 0.017941939053977642\n",
      "epoch4 save best model... 0.01756643757392141\n",
      "epoch5 save best model... 0.017424454098988785\n",
      "epoch8 save best model... 0.017206827178385255\n",
      "epoch9 save best model... 0.017176014354452915\n",
      "epoch11 save best model... 0.017064492348908333\n",
      "epoch13 save best model... 0.01679569086359971\n",
      "epoch14 save best model... 0.01663175490416381\n",
      "epoch15 save best model... 0.016440396306208298\n",
      "epoch16 save best model... 0.01637693691496243\n",
      "CV score: 0.016227058580519767\n",
      "Fold 0\n",
      "Set seed 2\n",
      "epoch0 save best model... 0.020286776901886783\n",
      "epoch1 save best model... 0.019069453171435276\n",
      "epoch2 save best model... 0.01805506388917735\n",
      "epoch3 save best model... 0.017837280115634544\n",
      "epoch4 save best model... 0.017462654858573016\n",
      "epoch5 save best model... 0.01735206606515719\n",
      "epoch9 save best model... 0.01735113010209283\n",
      "epoch10 save best model... 0.017181813423277847\n",
      "epoch11 save best model... 0.016984027446775882\n",
      "epoch13 save best model... 0.01662031601401627\n",
      "epoch14 save best model... 0.016564474823823144\n",
      "epoch15 save best model... 0.016383549332160477\n",
      "epoch16 save best model... 0.01622257560771595\n",
      "epoch19 save best model... 0.016222510900102335\n",
      "Fold 1\n",
      "Set seed 2\n",
      "epoch0 save best model... 0.020541730233741784\n",
      "epoch2 save best model... 0.018133670457369373\n",
      "epoch3 save best model... 0.01761066146483454\n",
      "epoch4 save best model... 0.017510095712196312\n",
      "epoch7 save best model... 0.017327146743825194\n",
      "epoch9 save best model... 0.017273637301082764\n",
      "epoch10 save best model... 0.017170507036539853\n",
      "epoch12 save best model... 0.017035911762598978\n",
      "epoch13 save best model... 0.016776920581800792\n",
      "epoch15 save best model... 0.01661343808903238\n",
      "epoch16 save best model... 0.01642862667662679\n",
      "Fold 2\n",
      "Set seed 2\n",
      "epoch0 save best model... 0.01939997475298907\n",
      "epoch1 save best model... 0.018791076444992512\n",
      "epoch2 save best model... 0.017797355726191517\n",
      "epoch3 save best model... 0.017697842758998536\n",
      "epoch4 save best model... 0.017178062090892527\n",
      "epoch6 save best model... 0.017031116904018203\n",
      "epoch8 save best model... 0.01680191725494175\n",
      "epoch9 save best model... 0.01676339908711159\n",
      "epoch10 save best model... 0.016691876488138736\n",
      "epoch11 save best model... 0.016675596712991056\n",
      "epoch12 save best model... 0.016498829970188485\n",
      "epoch13 save best model... 0.016359064973530898\n",
      "epoch14 save best model... 0.016157596566013892\n",
      "epoch15 save best model... 0.01600106953823416\n",
      "epoch16 save best model... 0.015909996231914747\n",
      "epoch17 save best model... 0.01584698374755129\n",
      "epoch18 save best model... 0.01581757336173365\n",
      "Fold 3\n",
      "Set seed 2\n",
      "epoch0 save best model... 0.02045307177328982\n",
      "epoch1 save best model... 0.018749354949437403\n",
      "epoch2 save best model... 0.018192421636440217\n",
      "epoch3 save best model... 0.01798639200152596\n",
      "epoch4 save best model... 0.017574578487146688\n",
      "epoch5 save best model... 0.01741912619280788\n",
      "epoch6 save best model... 0.017147333264469693\n",
      "epoch7 save best model... 0.017073273790707486\n",
      "epoch11 save best model... 0.016892659305626685\n",
      "epoch13 save best model... 0.01663980231257601\n",
      "epoch14 save best model... 0.01649760486290775\n",
      "epoch15 save best model... 0.01626270213599289\n",
      "epoch16 save best model... 0.016161939011279977\n",
      "epoch17 save best model... 0.016152735464359743\n",
      "Fold 4\n",
      "Set seed 2\n",
      "epoch0 save best model... 0.021327606877865894\n",
      "epoch1 save best model... 0.01901079193020728\n",
      "epoch2 save best model... 0.01822573432071174\n",
      "epoch3 save best model... 0.017812907779162786\n",
      "epoch4 save best model... 0.017524321832816974\n",
      "epoch5 save best model... 0.017454850559981614\n",
      "epoch9 save best model... 0.017158490550481707\n",
      "epoch11 save best model... 0.017090603818076772\n",
      "epoch12 save best model... 0.01699038130636706\n",
      "epoch13 save best model... 0.016710073464543923\n",
      "epoch15 save best model... 0.016545773114381823\n",
      "epoch16 save best model... 0.016430565036152565\n",
      "epoch17 save best model... 0.0163793333810978\n",
      "epoch19 save best model... 0.01636561450091615\n",
      "CV score: 0.01619742379684175\n",
      "Seed Averaged CV score: 0.01606371221070013\n"
     ]
    }
   ],
   "source": [
    "# Seed Averaging for solid result\n",
    "oof = np.zeros((len(train), len(CFG.target_cols)))\n",
    "predictions = np.zeros((len(test), len(CFG.target_cols)))\n",
    "\n",
    "SEED = [0, 1, 2]\n",
    "for seed in SEED:\n",
    "    _oof, _predictions = run_kfold_nn(CFG, \n",
    "                                      train, test, folds, \n",
    "                                      num_features, cat_features, target,\n",
    "                                      device,\n",
    "                                      n_fold=5, seed=seed)\n",
    "    oof += _oof / len(SEED)\n",
    "    predictions += _predictions / len(SEED)\n",
    "\n",
    "score = 0\n",
    "for i in range(target.shape[1]):\n",
    "    _score = log_loss(target[:,i], oof[:,i])\n",
    "    score += _score / target.shape[1]\n",
    "logger.info(f\"Seed Averaged CV score: {score}\")"
   ]
  },
  {
   "cell_type": "code",
   "execution_count": 16,
   "metadata": {
    "execution": {
     "iopub.execute_input": "2020-09-08T14:25:57.419903Z",
     "iopub.status.busy": "2020-09-08T14:25:57.417895Z",
     "iopub.status.idle": "2020-09-08T14:26:13.655921Z",
     "shell.execute_reply": "2020-09-08T14:26:13.655097Z"
    },
    "papermill": {
     "duration": 16.472358,
     "end_time": "2020-09-08T14:26:13.656055",
     "exception": false,
     "start_time": "2020-09-08T14:25:57.183697",
     "status": "completed"
    },
    "tags": []
   },
   "outputs": [],
   "source": [
    "train[target_cols] = oof\n",
    "train[['sig_id']+target_cols].to_csv('oof.csv', index=False)\n",
    "\n",
    "test[target_cols] = predictions\n",
    "test[['sig_id']+target_cols].to_csv('pred.csv', index=False)"
   ]
  },
  {
   "cell_type": "code",
   "execution_count": 17,
   "metadata": {
    "execution": {
     "iopub.execute_input": "2020-09-08T14:26:13.719342Z",
     "iopub.status.busy": "2020-09-08T14:26:13.718015Z",
     "iopub.status.idle": "2020-09-08T14:26:14.715044Z",
     "shell.execute_reply": "2020-09-08T14:26:14.715537Z"
    },
    "papermill": {
     "duration": 1.037984,
     "end_time": "2020-09-08T14:26:14.715697",
     "exception": false,
     "start_time": "2020-09-08T14:26:13.677713",
     "status": "completed"
    },
    "tags": []
   },
   "outputs": [
    {
     "name": "stderr",
     "output_type": "stream",
     "text": [
      "Final result: 0.014805003594543058\n"
     ]
    }
   ],
   "source": [
    "# Final result with 'cp_type'=='ctl_vehicle' data\n",
    "result = train_targets_scored.drop(columns=target_cols)\\\n",
    "            .merge(train[['sig_id']+target_cols], on='sig_id', how='left').fillna(0)\n",
    "y_true = train_targets_scored[target_cols].values\n",
    "y_pred = result[target_cols].values\n",
    "score = 0\n",
    "for i in range(y_true.shape[1]):\n",
    "    _score = log_loss(y_true[:,i], y_pred[:,i])\n",
    "    score += _score / y_true.shape[1]\n",
    "logger.info(f\"Final result: {score}\")"
   ]
  },
  {
   "cell_type": "markdown",
   "execution_count": null,
   "metadata": {
    "papermill": {
     "duration": 0.021095,
     "end_time": "2020-09-08T14:26:14.759501",
     "exception": false,
     "start_time": "2020-09-08T14:26:14.738406",
     "status": "completed"
    },
    "tags": []
   },
   "source": [
    "# Submit"
   ]
  },
  {
   "cell_type": "code",
   "execution_count": 18,
   "metadata": {
    "execution": {
     "iopub.execute_input": "2020-09-08T14:26:14.813973Z",
     "iopub.status.busy": "2020-09-08T14:26:14.812453Z",
     "iopub.status.idle": "2020-09-08T14:26:16.901077Z",
     "shell.execute_reply": "2020-09-08T14:26:16.901622Z"
    },
    "papermill": {
     "duration": 2.121174,
     "end_time": "2020-09-08T14:26:16.901761",
     "exception": false,
     "start_time": "2020-09-08T14:26:14.780587",
     "status": "completed"
    },
    "tags": []
   },
   "outputs": [
    {
     "data": {
      "text/html": [
       "<div>\n",
       "<style scoped>\n",
       "    .dataframe tbody tr th:only-of-type {\n",
       "        vertical-align: middle;\n",
       "    }\n",
       "\n",
       "    .dataframe tbody tr th {\n",
       "        vertical-align: top;\n",
       "    }\n",
       "\n",
       "    .dataframe thead th {\n",
       "        text-align: right;\n",
       "    }\n",
       "</style>\n",
       "<table border=\"1\" class=\"dataframe\">\n",
       "  <thead>\n",
       "    <tr style=\"text-align: right;\">\n",
       "      <th></th>\n",
       "      <th>sig_id</th>\n",
       "      <th>5-alpha_reductase_inhibitor</th>\n",
       "      <th>11-beta-hsd1_inhibitor</th>\n",
       "      <th>acat_inhibitor</th>\n",
       "      <th>acetylcholine_receptor_agonist</th>\n",
       "      <th>acetylcholine_receptor_antagonist</th>\n",
       "      <th>acetylcholinesterase_inhibitor</th>\n",
       "      <th>adenosine_receptor_agonist</th>\n",
       "      <th>adenosine_receptor_antagonist</th>\n",
       "      <th>adenylyl_cyclase_activator</th>\n",
       "      <th>...</th>\n",
       "      <th>tropomyosin_receptor_kinase_inhibitor</th>\n",
       "      <th>trpv_agonist</th>\n",
       "      <th>trpv_antagonist</th>\n",
       "      <th>tubulin_inhibitor</th>\n",
       "      <th>tyrosine_kinase_inhibitor</th>\n",
       "      <th>ubiquitin_specific_protease_inhibitor</th>\n",
       "      <th>vegfr_inhibitor</th>\n",
       "      <th>vitamin_b</th>\n",
       "      <th>vitamin_d_receptor_agonist</th>\n",
       "      <th>wnt_inhibitor</th>\n",
       "    </tr>\n",
       "  </thead>\n",
       "  <tbody>\n",
       "    <tr>\n",
       "      <th>0</th>\n",
       "      <td>id_0004d9e33</td>\n",
       "      <td>0.000814</td>\n",
       "      <td>0.001370</td>\n",
       "      <td>0.001639</td>\n",
       "      <td>0.013913</td>\n",
       "      <td>0.029817</td>\n",
       "      <td>0.005081</td>\n",
       "      <td>0.001170</td>\n",
       "      <td>0.007075</td>\n",
       "      <td>0.000077</td>\n",
       "      <td>...</td>\n",
       "      <td>0.000553</td>\n",
       "      <td>0.000817</td>\n",
       "      <td>0.003687</td>\n",
       "      <td>0.000240</td>\n",
       "      <td>0.000335</td>\n",
       "      <td>0.000599</td>\n",
       "      <td>0.000155</td>\n",
       "      <td>0.001763</td>\n",
       "      <td>0.003270</td>\n",
       "      <td>0.001471</td>\n",
       "    </tr>\n",
       "    <tr>\n",
       "      <th>1</th>\n",
       "      <td>id_001897cda</td>\n",
       "      <td>0.000294</td>\n",
       "      <td>0.000627</td>\n",
       "      <td>0.001718</td>\n",
       "      <td>0.001579</td>\n",
       "      <td>0.001663</td>\n",
       "      <td>0.001678</td>\n",
       "      <td>0.006031</td>\n",
       "      <td>0.007425</td>\n",
       "      <td>0.008955</td>\n",
       "      <td>...</td>\n",
       "      <td>0.000668</td>\n",
       "      <td>0.000377</td>\n",
       "      <td>0.003965</td>\n",
       "      <td>0.000121</td>\n",
       "      <td>0.009946</td>\n",
       "      <td>0.000356</td>\n",
       "      <td>0.005853</td>\n",
       "      <td>0.000639</td>\n",
       "      <td>0.001177</td>\n",
       "      <td>0.002716</td>\n",
       "    </tr>\n",
       "    <tr>\n",
       "      <th>2</th>\n",
       "      <td>id_002429b5b</td>\n",
       "      <td>0.000000</td>\n",
       "      <td>0.000000</td>\n",
       "      <td>0.000000</td>\n",
       "      <td>0.000000</td>\n",
       "      <td>0.000000</td>\n",
       "      <td>0.000000</td>\n",
       "      <td>0.000000</td>\n",
       "      <td>0.000000</td>\n",
       "      <td>0.000000</td>\n",
       "      <td>...</td>\n",
       "      <td>0.000000</td>\n",
       "      <td>0.000000</td>\n",
       "      <td>0.000000</td>\n",
       "      <td>0.000000</td>\n",
       "      <td>0.000000</td>\n",
       "      <td>0.000000</td>\n",
       "      <td>0.000000</td>\n",
       "      <td>0.000000</td>\n",
       "      <td>0.000000</td>\n",
       "      <td>0.000000</td>\n",
       "    </tr>\n",
       "    <tr>\n",
       "      <th>3</th>\n",
       "      <td>id_00276f245</td>\n",
       "      <td>0.001208</td>\n",
       "      <td>0.000551</td>\n",
       "      <td>0.002646</td>\n",
       "      <td>0.015628</td>\n",
       "      <td>0.016103</td>\n",
       "      <td>0.005279</td>\n",
       "      <td>0.003603</td>\n",
       "      <td>0.002925</td>\n",
       "      <td>0.000113</td>\n",
       "      <td>...</td>\n",
       "      <td>0.000745</td>\n",
       "      <td>0.000387</td>\n",
       "      <td>0.004831</td>\n",
       "      <td>0.036113</td>\n",
       "      <td>0.007800</td>\n",
       "      <td>0.000503</td>\n",
       "      <td>0.001241</td>\n",
       "      <td>0.003259</td>\n",
       "      <td>0.000138</td>\n",
       "      <td>0.003322</td>\n",
       "    </tr>\n",
       "    <tr>\n",
       "      <th>4</th>\n",
       "      <td>id_0027f1083</td>\n",
       "      <td>0.001913</td>\n",
       "      <td>0.002846</td>\n",
       "      <td>0.002065</td>\n",
       "      <td>0.014862</td>\n",
       "      <td>0.020435</td>\n",
       "      <td>0.004917</td>\n",
       "      <td>0.006289</td>\n",
       "      <td>0.001351</td>\n",
       "      <td>0.000144</td>\n",
       "      <td>...</td>\n",
       "      <td>0.000819</td>\n",
       "      <td>0.000318</td>\n",
       "      <td>0.008599</td>\n",
       "      <td>0.004758</td>\n",
       "      <td>0.000849</td>\n",
       "      <td>0.000785</td>\n",
       "      <td>0.001074</td>\n",
       "      <td>0.001810</td>\n",
       "      <td>0.000079</td>\n",
       "      <td>0.001254</td>\n",
       "    </tr>\n",
       "  </tbody>\n",
       "</table>\n",
       "<p>5 rows × 207 columns</p>\n",
       "</div>"
      ],
      "text/plain": [
       "         sig_id  5-alpha_reductase_inhibitor  11-beta-hsd1_inhibitor  \\\n",
       "0  id_0004d9e33                     0.000814                0.001370   \n",
       "1  id_001897cda                     0.000294                0.000627   \n",
       "2  id_002429b5b                     0.000000                0.000000   \n",
       "3  id_00276f245                     0.001208                0.000551   \n",
       "4  id_0027f1083                     0.001913                0.002846   \n",
       "\n",
       "   acat_inhibitor  acetylcholine_receptor_agonist  \\\n",
       "0        0.001639                        0.013913   \n",
       "1        0.001718                        0.001579   \n",
       "2        0.000000                        0.000000   \n",
       "3        0.002646                        0.015628   \n",
       "4        0.002065                        0.014862   \n",
       "\n",
       "   acetylcholine_receptor_antagonist  acetylcholinesterase_inhibitor  \\\n",
       "0                           0.029817                        0.005081   \n",
       "1                           0.001663                        0.001678   \n",
       "2                           0.000000                        0.000000   \n",
       "3                           0.016103                        0.005279   \n",
       "4                           0.020435                        0.004917   \n",
       "\n",
       "   adenosine_receptor_agonist  adenosine_receptor_antagonist  \\\n",
       "0                    0.001170                       0.007075   \n",
       "1                    0.006031                       0.007425   \n",
       "2                    0.000000                       0.000000   \n",
       "3                    0.003603                       0.002925   \n",
       "4                    0.006289                       0.001351   \n",
       "\n",
       "   adenylyl_cyclase_activator  ...  tropomyosin_receptor_kinase_inhibitor  \\\n",
       "0                    0.000077  ...                               0.000553   \n",
       "1                    0.008955  ...                               0.000668   \n",
       "2                    0.000000  ...                               0.000000   \n",
       "3                    0.000113  ...                               0.000745   \n",
       "4                    0.000144  ...                               0.000819   \n",
       "\n",
       "   trpv_agonist  trpv_antagonist  tubulin_inhibitor  \\\n",
       "0      0.000817         0.003687           0.000240   \n",
       "1      0.000377         0.003965           0.000121   \n",
       "2      0.000000         0.000000           0.000000   \n",
       "3      0.000387         0.004831           0.036113   \n",
       "4      0.000318         0.008599           0.004758   \n",
       "\n",
       "   tyrosine_kinase_inhibitor  ubiquitin_specific_protease_inhibitor  \\\n",
       "0                   0.000335                               0.000599   \n",
       "1                   0.009946                               0.000356   \n",
       "2                   0.000000                               0.000000   \n",
       "3                   0.007800                               0.000503   \n",
       "4                   0.000849                               0.000785   \n",
       "\n",
       "   vegfr_inhibitor  vitamin_b  vitamin_d_receptor_agonist  wnt_inhibitor  \n",
       "0         0.000155   0.001763                    0.003270       0.001471  \n",
       "1         0.005853   0.000639                    0.001177       0.002716  \n",
       "2         0.000000   0.000000                    0.000000       0.000000  \n",
       "3         0.001241   0.003259                    0.000138       0.003322  \n",
       "4         0.001074   0.001810                    0.000079       0.001254  \n",
       "\n",
       "[5 rows x 207 columns]"
      ]
     },
     "execution_count": 18,
     "metadata": {},
     "output_type": "execute_result"
    }
   ],
   "source": [
    "sub = submission.drop(columns=target_cols).merge(test[['sig_id']+target_cols], on='sig_id', how='left').fillna(0)\n",
    "sub.to_csv('submission.csv', index=False)\n",
    "sub.head()"
   ]
  }
 ],
 "metadata": {
  "kernelspec": {
   "display_name": "Python 3",
   "language": "python",
   "name": "python3"
  },
  "language_info": {
   "codemirror_mode": {
    "name": "ipython",
    "version": 3
   },
   "file_extension": ".py",
   "mimetype": "text/x-python",
   "name": "python",
   "nbconvert_exporter": "python",
   "pygments_lexer": "ipython3",
   "version": "3.7.6"
  },
  "papermill": {
   "duration": 1656.681383,
   "end_time": "2020-09-08T14:26:18.104016",
   "environment_variables": {},
   "exception": null,
   "input_path": "__notebook__.ipynb",
   "output_path": "__notebook__.ipynb",
   "parameters": {},
   "start_time": "2020-09-08T13:58:41.422633",
   "version": "2.1.0"
  }
 },
 "nbformat": 4,
 "nbformat_minor": 4
}
