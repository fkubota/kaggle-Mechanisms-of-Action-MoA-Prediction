{
 "cells": [
  {
   "cell_type": "markdown",
   "metadata": {},
   "source": [
    "# Overview\n",
    "- [このノートブック](https://www.kaggle.com/nicohrubec/pytorch-multilabel-neural-network/data?select=iterative-stratification-master)をベースにベースラインを作る\n",
    "- NN(Pytorch)"
   ]
  },
  {
   "cell_type": "code",
   "execution_count": 1,
   "metadata": {},
   "outputs": [
    {
     "name": "stdout",
     "output_type": "stream",
     "text": [
      "a010304\n"
     ]
    }
   ],
   "source": [
    "# gitのhash\n",
    "import subprocess\n",
    "cmd = \"git rev-parse --short HEAD\"\n",
    "hash = subprocess.check_output(cmd.split()).strip().decode('utf-8')\n",
    "print(hash)"
   ]
  },
  {
   "cell_type": "markdown",
   "metadata": {},
   "source": [
    "# Const"
   ]
  },
  {
   "cell_type": "code",
   "execution_count": 2,
   "metadata": {},
   "outputs": [],
   "source": [
    "# basic\n",
    "DEBUG = False\n",
    "NB = '002'\n",
    "PATH_TRAIN = '../data_ignore/input/train_features.csv'\n",
    "PATH_TRAIN_SCORED = '../data_ignore/input/train_targets_scored.csv'\n",
    "PATH_TRAIN_NONSCORED = '../data_ignore/input/train_targets_nonscored.csv'\n",
    "PATH_SUB = '../data_ignore/input/sample_submission.csv'\n",
    "PATH_TEST = '../data_ignore/input/test_features.csv'"
   ]
  },
  {
   "cell_type": "code",
   "execution_count": 3,
   "metadata": {},
   "outputs": [],
   "source": [
    "settings_str = \"\"\"\n",
    "globals:\n",
    "  seed: 2020\n",
    "  device: cuda\n",
    "  num_epochs: 45\n",
    "\n",
    "dataset:\n",
    "  name: \n",
    "  params:\n",
    "    \n",
    "split:\n",
    "  name: KFold\n",
    "  params:\n",
    "    n_splits: 5\n",
    "    random_state: 42\n",
    "    shuffle: True\n",
    "\n",
    "loader:\n",
    "  train:\n",
    "    batch_size: 512\n",
    "    shuffle: True\n",
    "    num_workers: 10\n",
    "    pin_memory: True\n",
    "    drop_last: True\n",
    "  val:\n",
    "    batch_size: 512\n",
    "    shuffle: False\n",
    "    num_workers: 10\n",
    "    pin_memory: True\n",
    "    drop_last: False\n",
    "\n",
    "model:\n",
    "  name: \n",
    "  params:\n",
    "\n",
    "loss:\n",
    "  name: BCELoss\n",
    "  params: {}\n",
    "\n",
    "optimizer:\n",
    "  name: Adam\n",
    "  params:\n",
    "    lr: 0.005\n",
    "\n",
    "scheduler:\n",
    "  name: CosineAnnealingLR\n",
    "  params:\n",
    "    T_max: 10\n",
    "\"\"\""
   ]
  },
  {
   "cell_type": "markdown",
   "metadata": {},
   "source": [
    "# Import everything I need :)"
   ]
  },
  {
   "cell_type": "code",
   "execution_count": 4,
   "metadata": {},
   "outputs": [],
   "source": [
    "import time\n",
    "import yaml\n",
    "import random\n",
    "import numpy as np\n",
    "import pandas as pd\n",
    "from fastprogress import progress_bar\n",
    "import matplotlib.pyplot as plt\n",
    "\n",
    "from sklearn.metrics import log_loss\n",
    "from sklearn.model_selection import KFold\n",
    "\n",
    "import torch\n",
    "import torch.nn as nn\n",
    "import torch.optim as optim\n",
    "import torch.nn.functional as F\n",
    "from torch.utils.data import Dataset, DataLoader"
   ]
  },
  {
   "cell_type": "code",
   "execution_count": 5,
   "metadata": {},
   "outputs": [],
   "source": [
    "import warnings\n",
    "warnings.filterwarnings('ignore')"
   ]
  },
  {
   "cell_type": "markdown",
   "metadata": {},
   "source": [
    "# My func"
   ]
  },
  {
   "cell_type": "code",
   "execution_count": 6,
   "metadata": {},
   "outputs": [],
   "source": [
    "def preprocess(df):\n",
    "    df = df.copy()\n",
    "    df.loc[:, 'cp_type'] = df.loc[:, 'cp_type'].map({'trt_cp': 0, 'ctl_vehicle': 1})\n",
    "    df.loc[:, 'cp_dose'] = df.loc[:, 'cp_dose'].map({'D1': 0, 'D2': 1})\n",
    "    del df['sig_id']\n",
    "    return df\n",
    "\n",
    "def seed_everything(seed):\n",
    "    random.seed(seed)\n",
    "    np.random.seed(seed)\n",
    "    torch.manual_seed(seed)\n",
    "    torch.cuda.manual_seed(seed)\n",
    "    torch.backends.cudnn.deterministic = True\n",
    "    torch.backends.cudnn.benchmark = True"
   ]
  },
  {
   "cell_type": "markdown",
   "metadata": {},
   "source": [
    "# Preparation"
   ]
  },
  {
   "cell_type": "markdown",
   "metadata": {},
   "source": [
    "set"
   ]
  },
  {
   "cell_type": "code",
   "execution_count": 7,
   "metadata": {},
   "outputs": [],
   "source": [
    "settings = yaml.safe_load(settings_str)\n",
    "seed_everything(settings['globals']['seed'])"
   ]
  },
  {
   "cell_type": "code",
   "execution_count": 8,
   "metadata": {},
   "outputs": [],
   "source": [
    "if DEBUG:\n",
    "    settings['split']['params']['n_splits'] = 2\n",
    "    settings['globals']['num_epochs'] = 3"
   ]
  },
  {
   "cell_type": "markdown",
   "metadata": {},
   "source": [
    "<br>\n",
    "\n",
    "load dataset"
   ]
  },
  {
   "cell_type": "code",
   "execution_count": 9,
   "metadata": {},
   "outputs": [],
   "source": [
    "train_features = pd.read_csv(PATH_TRAIN)\n",
    "train_targets = pd.read_csv(PATH_TRAIN_SCORED)\n",
    "test_features = pd.read_csv(PATH_TEST)\n",
    "\n",
    "ss = pd.read_csv(PATH_SUB)"
   ]
  },
  {
   "cell_type": "code",
   "execution_count": 10,
   "metadata": {},
   "outputs": [],
   "source": [
    "if DEBUG:\n",
    "    print(':: debug mode ::')\n",
    "    train_features = train_features.iloc[::100, :]\n",
    "    train_targets = train_targets.iloc[::100, :]\n",
    "    test_features = train_features.iloc[::100, :]"
   ]
  },
  {
   "cell_type": "markdown",
   "metadata": {},
   "source": [
    "<br>\n",
    "\n",
    "preprocess"
   ]
  },
  {
   "cell_type": "code",
   "execution_count": 11,
   "metadata": {},
   "outputs": [],
   "source": [
    "train = preprocess(train_features)\n",
    "test = preprocess(test_features).values\n",
    "\n",
    "del train_targets['sig_id']\n",
    "\n",
    "targets = [col for col in train_targets.columns]\n",
    "train_targets = train_targets.loc[train['cp_type']==0].reset_index(drop=True).values\n",
    "train = train.loc[train['cp_type']==0].reset_index(drop=True).values"
   ]
  },
  {
   "cell_type": "code",
   "execution_count": 12,
   "metadata": {},
   "outputs": [
    {
     "name": "stdout",
     "output_type": "stream",
     "text": [
      "train shape:         (21948, 875)\n",
      "test shape:          (3982, 875)\n",
      "train_targets shape: (21948, 206)\n"
     ]
    }
   ],
   "source": [
    "print(f'train shape:         {train.shape}')\n",
    "print(f'test shape:          {test.shape}')\n",
    "print(f'train_targets shape: {train_targets.shape}')"
   ]
  },
  {
   "cell_type": "markdown",
   "metadata": {},
   "source": [
    "# Create model"
   ]
  },
  {
   "cell_type": "code",
   "execution_count": 13,
   "metadata": {},
   "outputs": [],
   "source": [
    "n_splits = settings['split']['params']['n_splits']\n",
    "n_epochs = settings['globals']['num_epochs']\n",
    "splitter = KFold(**settings['split']['params'])\n",
    "device = settings['globals']['device']\n",
    "criterion = criterion_ = nn.__getattribute__(\n",
    "    settings['loss']['name'])(**settings['loss']['params'])"
   ]
  },
  {
   "cell_type": "code",
   "execution_count": 14,
   "metadata": {},
   "outputs": [],
   "source": [
    "class MoaModel(nn.Module):\n",
    "    def __init__(self, num_columns):\n",
    "        super(MoaModel, self).__init__()\n",
    "        self.batch_norm1 = nn.BatchNorm1d(num_columns)\n",
    "        self.dropout1 = nn.Dropout(0.2)\n",
    "        self.dense1 = nn.utils.weight_norm(nn.Linear(num_columns, 2048))\n",
    "        \n",
    "        self.batch_norm2 = nn.BatchNorm1d(2048)\n",
    "        self.dropout2 = nn.Dropout(0.5)\n",
    "        self.dense2 = nn.utils.weight_norm(nn.Linear(2048, 1048))\n",
    "        \n",
    "        self.batch_norm3 = nn.BatchNorm1d(1048)\n",
    "        self.dropout3 = nn.Dropout(0.5)\n",
    "        self.dense3 = nn.utils.weight_norm(nn.Linear(1048, 206))\n",
    "    \n",
    "    def forward(self, x):\n",
    "        x = self.batch_norm1(x)\n",
    "        x = self.dropout1(x)\n",
    "        x = F.relu(self.dense1(x))\n",
    "        \n",
    "        x = self.batch_norm2(x)\n",
    "        x = self.dropout2(x)\n",
    "        x = F.relu(self.dense2(x))\n",
    "        \n",
    "        x = self.batch_norm3(x)\n",
    "        x = self.dropout3(x)\n",
    "        x = F.sigmoid(self.dense3(x))\n",
    "        \n",
    "        return x"
   ]
  },
  {
   "cell_type": "code",
   "execution_count": 15,
   "metadata": {},
   "outputs": [],
   "source": [
    "class MoaDataset(Dataset):\n",
    "    def __init__(self, df, targets, mode):\n",
    "        self.mode = mode\n",
    "        self.df = df\n",
    "#         self.targets = targets\n",
    "        if mode=='train':\n",
    "            self.targets = targets\n",
    "    \n",
    "    def __len__(self):\n",
    "        return len(self.df)\n",
    "    \n",
    "    def __getitem__(self, idx):\n",
    "        if self.mode == 'train':\n",
    "            return torch.FloatTensor(self.df[idx]), torch.FloatTensor(self.targets[idx])\n",
    "        elif self.mode == 'val':\n",
    "            return torch.FloatTensor(self.df[idx]), 0"
   ]
  },
  {
   "cell_type": "code",
   "execution_count": 16,
   "metadata": {},
   "outputs": [],
   "source": [
    "def mean_log_loss(y_true, y_pred):\n",
    "    metrics = []\n",
    "    for i, target in enumerate(targets):\n",
    "        metrics.append(log_loss(y_true[:, i], y_pred[:, i].astype(float), labels=[0,1]))\n",
    "    return np.mean(metrics)"
   ]
  },
  {
   "cell_type": "code",
   "execution_count": 17,
   "metadata": {},
   "outputs": [
    {
     "name": "stdout",
     "output_type": "stream",
     "text": [
      "----------------------------------------------------------------------------------------------------\n",
      ":: start fold 1/5 at Tue Oct 13 11:56:59 2020 ::\n",
      "----------------------------------------------------------------------------------------------------\n",
      "Epoch 01/45   loss: 0.39338   val_loss: 0.06377   mean_log_loss: 0.06171\n",
      "Epoch 02/45   loss: 0.03525   val_loss: 0.02362   mean_log_loss: 0.02326\n",
      "Epoch 03/45   loss: 0.02302   val_loss: 0.02090   mean_log_loss: 0.02046\n",
      "Epoch 04/45   loss: 0.02125   val_loss: 0.01992   mean_log_loss: 0.01949\n",
      "Epoch 05/45   loss: 0.02046   val_loss: 0.01943   mean_log_loss: 0.01899\n",
      "Epoch 06/45   loss: 0.01998   val_loss: 0.01916   mean_log_loss: 0.01875\n",
      "Epoch 07/45   loss: 0.01962   val_loss: 0.01890   mean_log_loss: 0.01850\n",
      "Epoch 08/45   loss: 0.01946   val_loss: 0.01882   mean_log_loss: 0.01843\n",
      "Epoch 09/45   loss: 0.01926   val_loss: 0.01872   mean_log_loss: 0.01832\n",
      "Epoch 10/45   loss: 0.01914   val_loss: 0.01870   mean_log_loss: 0.01832\n",
      "Epoch 11/45   loss: 0.01918   val_loss: 0.01869   mean_log_loss: 0.01831\n",
      "Epoch 12/45   loss: 0.01922   val_loss: 0.01870   mean_log_loss: 0.01831\n",
      "Epoch 13/45   loss: 0.01922   val_loss: 0.01864   mean_log_loss: 0.01824\n",
      "Epoch 14/45   loss: 0.01905   val_loss: 0.01854   mean_log_loss: 0.01816\n",
      "Epoch 15/45   loss: 0.01898   val_loss: 0.01837   mean_log_loss: 0.01803\n",
      "Epoch 16/45   loss: 0.01868   val_loss: 0.01816   mean_log_loss: 0.01776\n",
      "Epoch 17/45   loss: 0.01847   val_loss: 0.01789   mean_log_loss: 0.01748\n",
      "Epoch 18/45   loss: 0.01805   val_loss: 0.01759   mean_log_loss: 0.01716\n",
      "Epoch 19/45   loss: 0.01763   val_loss: 0.01733   mean_log_loss: 0.01674\n",
      "Epoch 20/45   loss: 0.01723   val_loss: 0.01714   mean_log_loss: 0.01660\n",
      "Epoch 21/45   loss: 0.01720   val_loss: 0.01696   mean_log_loss: 0.01640\n",
      "Epoch 22/45   loss: 0.01674   val_loss: 0.01687   mean_log_loss: 0.01635\n",
      "Epoch 23/45   loss: 0.01635   val_loss: 0.01668   mean_log_loss: 0.01615\n",
      "Epoch 24/45   loss: 0.01603   val_loss: 0.01655   mean_log_loss: 0.01594\n",
      "Epoch 25/45   loss: 0.01557   val_loss: 0.01649   mean_log_loss: 0.01588\n",
      "Epoch 26/45   loss: 0.01527   val_loss: 0.01640   mean_log_loss: 0.01585\n",
      "Epoch 27/45   loss: 0.01501   val_loss: 0.01630   mean_log_loss: 0.01571\n",
      "Epoch 28/45   loss: 0.01478   val_loss: 0.01625   mean_log_loss: 0.01561\n",
      "Epoch 29/45   loss: 0.01456   val_loss: 0.01625   mean_log_loss: 0.01562\n",
      "Epoch 30/45   loss: 0.01453   val_loss: 0.01623   mean_log_loss: 0.01560\n",
      "Epoch 31/45   loss: 0.01450   val_loss: 0.01623   mean_log_loss: 0.01560\n",
      "Epoch 32/45   loss: 0.01447   val_loss: 0.01623   mean_log_loss: 0.01560\n",
      "Epoch 33/45   loss: 0.01445   val_loss: 0.01622   mean_log_loss: 0.01558\n",
      "Epoch 34/45   loss: 0.01438   val_loss: 0.01620   mean_log_loss: 0.01564\n",
      "Epoch 35/45   loss: 0.01436   val_loss: 0.01621   mean_log_loss: 0.01555\n",
      "Epoch 36/45   loss: 0.01412   val_loss: 0.01632   mean_log_loss: 0.01563\n",
      "Epoch 37/45   loss: 0.01415   val_loss: 0.01636   mean_log_loss: 0.01573\n",
      "Epoch 38/45   loss: 0.01400   val_loss: 0.01641   mean_log_loss: 0.01580\n",
      "Epoch 39/45   loss: 0.01375   val_loss: 0.01641   mean_log_loss: 0.01567\n",
      "Epoch 40/45   loss: 0.01356   val_loss: 0.01641   mean_log_loss: 0.01579\n",
      "Epoch 41/45   loss: 0.01325   val_loss: 0.01639   mean_log_loss: 0.01583\n",
      "Epoch 42/45   loss: 0.01279   val_loss: 0.01653   mean_log_loss: 0.01572\n",
      "Epoch 43/45   loss: 0.01224   val_loss: 0.01645   mean_log_loss: 0.01578\n",
      "Epoch 44/45   loss: 0.01161   val_loss: 0.01665   mean_log_loss: 0.01563\n",
      "Epoch 45/45   loss: 0.01093   val_loss: 0.01664   mean_log_loss: 0.01575\n"
     ]
    },
    {
     "data": {
      "image/png": "[encoded data removed]",
      "text/plain": [
       "<Figure size 432x288 with 1 Axes>"
      ]
     },
     "metadata": {
      "needs_background": "light"
     },
     "output_type": "display_data"
    },
    {
     "name": "stdout",
     "output_type": "stream",
     "text": [
      "\n",
      "\n",
      "----------------------------------------------------------------------------------------------------\n",
      ":: start fold 2/5 at Tue Oct 13 11:57:56 2020 ::\n",
      "----------------------------------------------------------------------------------------------------\n",
      "Epoch 01/45   loss: 0.40799   val_loss: 0.06912   mean_log_loss: 0.06698\n",
      "Epoch 02/45   loss: 0.03579   val_loss: 0.02304   mean_log_loss: 0.02347\n",
      "Epoch 03/45   loss: 0.02277   val_loss: 0.02086   mean_log_loss: 0.02125\n",
      "Epoch 04/45   loss: 0.02132   val_loss: 0.02005   mean_log_loss: 0.02051\n",
      "Epoch 05/45   loss: 0.02067   val_loss: 0.01965   mean_log_loss: 0.02001\n",
      "Epoch 06/45   loss: 0.02010   val_loss: 0.01924   mean_log_loss: 0.01953\n",
      "Epoch 07/45   loss: 0.01973   val_loss: 0.01898   mean_log_loss: 0.01924\n",
      "Epoch 08/45   loss: 0.01947   val_loss: 0.01886   mean_log_loss: 0.01908\n",
      "Epoch 09/45   loss: 0.01936   val_loss: 0.01877   mean_log_loss: 0.01896\n",
      "Epoch 10/45   loss: 0.01927   val_loss: 0.01876   mean_log_loss: 0.01894\n",
      "Epoch 11/45   loss: 0.01922   val_loss: 0.01876   mean_log_loss: 0.01895\n",
      "Epoch 12/45   loss: 0.01927   val_loss: 0.01875   mean_log_loss: 0.01892\n",
      "Epoch 13/45   loss: 0.01921   val_loss: 0.01867   mean_log_loss: 0.01883\n",
      "Epoch 14/45   loss: 0.01908   val_loss: 0.01853   mean_log_loss: 0.01865\n",
      "Epoch 15/45   loss: 0.01901   val_loss: 0.01839   mean_log_loss: 0.01854\n",
      "Epoch 16/45   loss: 0.01867   val_loss: 0.01809   mean_log_loss: 0.01817\n",
      "Epoch 17/45   loss: 0.01837   val_loss: 0.01789   mean_log_loss: 0.01787\n",
      "Epoch 18/45   loss: 0.01796   val_loss: 0.01762   mean_log_loss: 0.01763\n",
      "Epoch 19/45   loss: 0.01765   val_loss: 0.01736   mean_log_loss: 0.01742\n",
      "Epoch 20/45   loss: 0.01730   val_loss: 0.01725   mean_log_loss: 0.01734\n",
      "Epoch 21/45   loss: 0.01694   val_loss: 0.01701   mean_log_loss: 0.01699\n",
      "Epoch 22/45   loss: 0.01663   val_loss: 0.01701   mean_log_loss: 0.01712\n",
      "Epoch 23/45   loss: 0.01631   val_loss: 0.01675   mean_log_loss: 0.01692\n",
      "Epoch 24/45   loss: 0.01594   val_loss: 0.01676   mean_log_loss: 0.01680\n",
      "Epoch 25/45   loss: 0.01571   val_loss: 0.01657   mean_log_loss: 0.01666\n",
      "Epoch 26/45   loss: 0.01533   val_loss: 0.01649   mean_log_loss: 0.01654\n",
      "Epoch 27/45   loss: 0.01500   val_loss: 0.01640   mean_log_loss: 0.01657\n",
      "Epoch 28/45   loss: 0.01472   val_loss: 0.01637   mean_log_loss: 0.01649\n",
      "Epoch 29/45   loss: 0.01458   val_loss: 0.01635   mean_log_loss: 0.01653\n",
      "Epoch 30/45   loss: 0.01451   val_loss: 0.01635   mean_log_loss: 0.01651\n",
      "Epoch 31/45   loss: 0.01444   val_loss: 0.01634   mean_log_loss: 0.01652\n",
      "Epoch 32/45   loss: 0.01442   val_loss: 0.01634   mean_log_loss: 0.01649\n",
      "Epoch 33/45   loss: 0.01443   val_loss: 0.01633   mean_log_loss: 0.01650\n",
      "Epoch 34/45   loss: 0.01436   val_loss: 0.01632   mean_log_loss: 0.01650\n",
      "Epoch 35/45   loss: 0.01431   val_loss: 0.01632   mean_log_loss: 0.01638\n",
      "Epoch 36/45   loss: 0.01418   val_loss: 0.01634   mean_log_loss: 0.01639\n",
      "Epoch 37/45   loss: 0.01415   val_loss: 0.01641   mean_log_loss: 0.01653\n",
      "Epoch 38/45   loss: 0.01394   val_loss: 0.01645   mean_log_loss: 0.01666\n",
      "Epoch 39/45   loss: 0.01372   val_loss: 0.01646   mean_log_loss: 0.01657\n",
      "Epoch 40/45   loss: 0.01344   val_loss: 0.01650   mean_log_loss: 0.01650\n",
      "Epoch 41/45   loss: 0.01310   val_loss: 0.01647   mean_log_loss: 0.01660\n",
      "Epoch 42/45   loss: 0.01264   val_loss: 0.01650   mean_log_loss: 0.01672\n",
      "Epoch 43/45   loss: 0.01224   val_loss: 0.01653   mean_log_loss: 0.01686\n",
      "Epoch 44/45   loss: 0.01155   val_loss: 0.01671   mean_log_loss: 0.01689\n",
      "Epoch 45/45   loss: 0.01081   val_loss: 0.01666   mean_log_loss: 0.01685\n"
     ]
    },
    {
     "data": {
      "image/png": "[encoded data removed]",
      "text/plain": [
       "<Figure size 432x288 with 1 Axes>"
      ]
     },
     "metadata": {
      "needs_background": "light"
     },
     "output_type": "display_data"
    },
    {
     "name": "stdout",
     "output_type": "stream",
     "text": [
      "\n",
      "\n",
      "----------------------------------------------------------------------------------------------------\n",
      ":: start fold 3/5 at Tue Oct 13 11:58:52 2020 ::\n",
      "----------------------------------------------------------------------------------------------------\n",
      "Epoch 01/45   loss: 0.42395   val_loss: 0.06602   mean_log_loss: 0.06482\n",
      "Epoch 02/45   loss: 0.03764   val_loss: 0.02300   mean_log_loss: 0.02241\n",
      "Epoch 03/45   loss: 0.02292   val_loss: 0.02091   mean_log_loss: 0.02033\n",
      "Epoch 04/45   loss: 0.02135   val_loss: 0.02014   mean_log_loss: 0.01957\n",
      "Epoch 05/45   loss: 0.02058   val_loss: 0.01955   mean_log_loss: 0.01901\n",
      "Epoch 06/45   loss: 0.02003   val_loss: 0.01919   mean_log_loss: 0.01869\n",
      "Epoch 07/45   loss: 0.01966   val_loss: 0.01899   mean_log_loss: 0.01851\n",
      "Epoch 08/45   loss: 0.01940   val_loss: 0.01886   mean_log_loss: 0.01837\n",
      "Epoch 09/45   loss: 0.01933   val_loss: 0.01879   mean_log_loss: 0.01833\n",
      "Epoch 10/45   loss: 0.01922   val_loss: 0.01877   mean_log_loss: 0.01831\n",
      "Epoch 11/45   loss: 0.01917   val_loss: 0.01877   mean_log_loss: 0.01831\n",
      "Epoch 12/45   loss: 0.01915   val_loss: 0.01876   mean_log_loss: 0.01830\n",
      "Epoch 13/45   loss: 0.01914   val_loss: 0.01871   mean_log_loss: 0.01825\n",
      "Epoch 14/45   loss: 0.01903   val_loss: 0.01859   mean_log_loss: 0.01817\n",
      "Epoch 15/45   loss: 0.01878   val_loss: 0.01842   mean_log_loss: 0.01794\n",
      "Epoch 16/45   loss: 0.01858   val_loss: 0.01812   mean_log_loss: 0.01765\n",
      "Epoch 17/45   loss: 0.01819   val_loss: 0.01788   mean_log_loss: 0.01742\n",
      "Epoch 18/45   loss: 0.01787   val_loss: 0.01754   mean_log_loss: 0.01710\n",
      "Epoch 19/45   loss: 0.01754   val_loss: 0.01739   mean_log_loss: 0.01698\n",
      "Epoch 20/45   loss: 0.01711   val_loss: 0.01721   mean_log_loss: 0.01687\n",
      "Epoch 21/45   loss: 0.01678   val_loss: 0.01703   mean_log_loss: 0.01650\n",
      "Epoch 22/45   loss: 0.01647   val_loss: 0.01688   mean_log_loss: 0.01640\n",
      "Epoch 23/45   loss: 0.01610   val_loss: 0.01676   mean_log_loss: 0.01622\n",
      "Epoch 24/45   loss: 0.01584   val_loss: 0.01663   mean_log_loss: 0.01630\n",
      "Epoch 25/45   loss: 0.01546   val_loss: 0.01662   mean_log_loss: 0.01607\n",
      "Epoch 26/45   loss: 0.01505   val_loss: 0.01646   mean_log_loss: 0.01589\n",
      "Epoch 27/45   loss: 0.01470   val_loss: 0.01641   mean_log_loss: 0.01597\n",
      "Epoch 28/45   loss: 0.01446   val_loss: 0.01636   mean_log_loss: 0.01590\n",
      "Epoch 29/45   loss: 0.01428   val_loss: 0.01634   mean_log_loss: 0.01588\n",
      "Epoch 30/45   loss: 0.01414   val_loss: 0.01633   mean_log_loss: 0.01588\n",
      "Epoch 31/45   loss: 0.01411   val_loss: 0.01634   mean_log_loss: 0.01588\n",
      "Epoch 32/45   loss: 0.01413   val_loss: 0.01634   mean_log_loss: 0.01588\n",
      "Epoch 33/45   loss: 0.01408   val_loss: 0.01633   mean_log_loss: 0.01587\n",
      "Epoch 34/45   loss: 0.01408   val_loss: 0.01633   mean_log_loss: 0.01587\n",
      "Epoch 35/45   loss: 0.01398   val_loss: 0.01632   mean_log_loss: 0.01585\n",
      "Epoch 36/45   loss: 0.01386   val_loss: 0.01639   mean_log_loss: 0.01594\n",
      "Epoch 37/45   loss: 0.01376   val_loss: 0.01645   mean_log_loss: 0.01610\n",
      "Epoch 38/45   loss: 0.01358   val_loss: 0.01654   mean_log_loss: 0.01622\n",
      "Epoch 39/45   loss: 0.01339   val_loss: 0.01649   mean_log_loss: 0.01618\n",
      "Epoch 40/45   loss: 0.01311   val_loss: 0.01667   mean_log_loss: 0.01613\n",
      "Epoch 41/45   loss: 0.01288   val_loss: 0.01664   mean_log_loss: 0.01639\n",
      "Epoch 42/45   loss: 0.01228   val_loss: 0.01671   mean_log_loss: 0.01625\n",
      "Epoch 43/45   loss: 0.01165   val_loss: 0.01689   mean_log_loss: 0.01656\n",
      "Epoch 44/45   loss: 0.01104   val_loss: 0.01685   mean_log_loss: 0.01628\n",
      "Epoch 45/45   loss: 0.01028   val_loss: 0.01684   mean_log_loss: 0.01612\n"
     ]
    },
    {
     "data": {
      "image/png": "[encoded data removed]",
      "text/plain": [
       "<Figure size 432x288 with 1 Axes>"
      ]
     },
     "metadata": {
      "needs_background": "light"
     },
     "output_type": "display_data"
    },
    {
     "name": "stdout",
     "output_type": "stream",
     "text": [
      "\n",
      "\n",
      "----------------------------------------------------------------------------------------------------\n",
      ":: start fold 4/5 at Tue Oct 13 11:59:47 2020 ::\n",
      "----------------------------------------------------------------------------------------------------\n",
      "Epoch 01/45   loss: 0.40953   val_loss: 0.06622   mean_log_loss: 0.06450\n",
      "Epoch 02/45   loss: 0.03615   val_loss: 0.02310   mean_log_loss: 0.02180\n",
      "Epoch 03/45   loss: 0.02278   val_loss: 0.02131   mean_log_loss: 0.02012\n",
      "Epoch 04/45   loss: 0.02128   val_loss: 0.02045   mean_log_loss: 0.01927\n",
      "Epoch 05/45   loss: 0.02044   val_loss: 0.01990   mean_log_loss: 0.01877\n",
      "Epoch 06/45   loss: 0.01988   val_loss: 0.01959   mean_log_loss: 0.01840\n",
      "Epoch 07/45   loss: 0.01949   val_loss: 0.01936   mean_log_loss: 0.01826\n",
      "Epoch 08/45   loss: 0.01922   val_loss: 0.01923   mean_log_loss: 0.01814\n",
      "Epoch 09/45   loss: 0.01909   val_loss: 0.01917   mean_log_loss: 0.01805\n",
      "Epoch 10/45   loss: 0.01900   val_loss: 0.01914   mean_log_loss: 0.01802\n",
      "Epoch 11/45   loss: 0.01900   val_loss: 0.01914   mean_log_loss: 0.01802\n",
      "Epoch 12/45   loss: 0.01910   val_loss: 0.01914   mean_log_loss: 0.01802\n",
      "Epoch 13/45   loss: 0.01902   val_loss: 0.01911   mean_log_loss: 0.01798\n",
      "Epoch 14/45   loss: 0.01888   val_loss: 0.01894   mean_log_loss: 0.01786\n",
      "Epoch 15/45   loss: 0.01870   val_loss: 0.01882   mean_log_loss: 0.01772\n",
      "Epoch 16/45   loss: 0.01844   val_loss: 0.01853   mean_log_loss: 0.01750\n",
      "Epoch 17/45   loss: 0.01808   val_loss: 0.01833   mean_log_loss: 0.01716\n",
      "Epoch 18/45   loss: 0.01773   val_loss: 0.01802   mean_log_loss: 0.01702\n",
      "Epoch 19/45   loss: 0.01746   val_loss: 0.01792   mean_log_loss: 0.01685\n",
      "Epoch 20/45   loss: 0.01708   val_loss: 0.01773   mean_log_loss: 0.01658\n",
      "Epoch 21/45   loss: 0.01675   val_loss: 0.01745   mean_log_loss: 0.01649\n",
      "Epoch 22/45   loss: 0.01641   val_loss: 0.01738   mean_log_loss: 0.01636\n",
      "Epoch 23/45   loss: 0.01606   val_loss: 0.01730   mean_log_loss: 0.01623\n",
      "Epoch 24/45   loss: 0.01560   val_loss: 0.01708   mean_log_loss: 0.01606\n",
      "Epoch 25/45   loss: 0.01524   val_loss: 0.01706   mean_log_loss: 0.01595\n",
      "Epoch 26/45   loss: 0.01493   val_loss: 0.01699   mean_log_loss: 0.01594\n",
      "Epoch 27/45   loss: 0.01459   val_loss: 0.01693   mean_log_loss: 0.01587\n",
      "Epoch 28/45   loss: 0.01440   val_loss: 0.01688   mean_log_loss: 0.01582\n",
      "Epoch 29/45   loss: 0.01407   val_loss: 0.01685   mean_log_loss: 0.01581\n",
      "Epoch 30/45   loss: 0.01405   val_loss: 0.01684   mean_log_loss: 0.01581\n",
      "Epoch 31/45   loss: 0.01401   val_loss: 0.01684   mean_log_loss: 0.01580\n",
      "Epoch 32/45   loss: 0.01401   val_loss: 0.01684   mean_log_loss: 0.01580\n",
      "Epoch 33/45   loss: 0.01393   val_loss: 0.01684   mean_log_loss: 0.01580\n",
      "Epoch 34/45   loss: 0.01397   val_loss: 0.01681   mean_log_loss: 0.01581\n",
      "Epoch 35/45   loss: 0.01391   val_loss: 0.01697   mean_log_loss: 0.01593\n",
      "Epoch 36/45   loss: 0.01386   val_loss: 0.01691   mean_log_loss: 0.01589\n",
      "Epoch 37/45   loss: 0.01373   val_loss: 0.01695   mean_log_loss: 0.01593\n",
      "Epoch 38/45   loss: 0.01379   val_loss: 0.01713   mean_log_loss: 0.01598\n",
      "Epoch 39/45   loss: 0.01354   val_loss: 0.01713   mean_log_loss: 0.01590\n",
      "Epoch 40/45   loss: 0.01332   val_loss: 0.01732   mean_log_loss: 0.01607\n",
      "Epoch 41/45   loss: 0.01297   val_loss: 0.01760   mean_log_loss: 0.01621\n",
      "Epoch 42/45   loss: 0.01260   val_loss: 0.01734   mean_log_loss: 0.01608\n",
      "Epoch 43/45   loss: 0.01194   val_loss: 0.01736   mean_log_loss: 0.01623\n",
      "Epoch 44/45   loss: 0.01137   val_loss: 0.01735   mean_log_loss: 0.01603\n",
      "Epoch 45/45   loss: 0.01065   val_loss: 0.01748   mean_log_loss: 0.01613\n"
     ]
    },
    {
     "data": {
      "image/png": "[encoded data removed]",
      "text/plain": [
       "<Figure size 432x288 with 1 Axes>"
      ]
     },
     "metadata": {
      "needs_background": "light"
     },
     "output_type": "display_data"
    },
    {
     "name": "stdout",
     "output_type": "stream",
     "text": [
      "\n",
      "\n",
      "----------------------------------------------------------------------------------------------------\n",
      ":: start fold 5/5 at Tue Oct 13 12:00:44 2020 ::\n",
      "----------------------------------------------------------------------------------------------------\n",
      "Epoch 01/45   loss: 0.39141   val_loss: 0.06084   mean_log_loss: 0.06035\n",
      "Epoch 02/45   loss: 0.03505   val_loss: 0.02324   mean_log_loss: 0.02329\n",
      "Epoch 03/45   loss: 0.02274   val_loss: 0.02095   mean_log_loss: 0.02100\n",
      "Epoch 04/45   loss: 0.02130   val_loss: 0.02018   mean_log_loss: 0.02017\n",
      "Epoch 05/45   loss: 0.02057   val_loss: 0.01967   mean_log_loss: 0.01975\n",
      "Epoch 06/45   loss: 0.02011   val_loss: 0.01949   mean_log_loss: 0.01960\n",
      "Epoch 07/45   loss: 0.01982   val_loss: 0.01922   mean_log_loss: 0.01930\n",
      "Epoch 08/45   loss: 0.01948   val_loss: 0.01901   mean_log_loss: 0.01911\n",
      "Epoch 09/45   loss: 0.01934   val_loss: 0.01895   mean_log_loss: 0.01907\n",
      "Epoch 10/45   loss: 0.01936   val_loss: 0.01894   mean_log_loss: 0.01906\n",
      "Epoch 11/45   loss: 0.01928   val_loss: 0.01895   mean_log_loss: 0.01907\n",
      "Epoch 12/45   loss: 0.01930   val_loss: 0.01891   mean_log_loss: 0.01903\n",
      "Epoch 13/45   loss: 0.01927   val_loss: 0.01884   mean_log_loss: 0.01896\n",
      "Epoch 14/45   loss: 0.01915   val_loss: 0.01871   mean_log_loss: 0.01881\n",
      "Epoch 15/45   loss: 0.01895   val_loss: 0.01855   mean_log_loss: 0.01869\n",
      "Epoch 16/45   loss: 0.01871   val_loss: 0.01828   mean_log_loss: 0.01837\n",
      "Epoch 17/45   loss: 0.01840   val_loss: 0.01797   mean_log_loss: 0.01813\n",
      "Epoch 18/45   loss: 0.01811   val_loss: 0.01775   mean_log_loss: 0.01798\n",
      "Epoch 19/45   loss: 0.01779   val_loss: 0.01750   mean_log_loss: 0.01765\n",
      "Epoch 20/45   loss: 0.01733   val_loss: 0.01725   mean_log_loss: 0.01742\n",
      "Epoch 21/45   loss: 0.01705   val_loss: 0.01703   mean_log_loss: 0.01728\n",
      "Epoch 22/45   loss: 0.01678   val_loss: 0.01704   mean_log_loss: 0.01721\n",
      "Epoch 23/45   loss: 0.01638   val_loss: 0.01676   mean_log_loss: 0.01701\n",
      "Epoch 24/45   loss: 0.01598   val_loss: 0.01666   mean_log_loss: 0.01684\n",
      "Epoch 25/45   loss: 0.01567   val_loss: 0.01654   mean_log_loss: 0.01680\n",
      "Epoch 26/45   loss: 0.01529   val_loss: 0.01646   mean_log_loss: 0.01664\n",
      "Epoch 27/45   loss: 0.01492   val_loss: 0.01638   mean_log_loss: 0.01665\n",
      "Epoch 28/45   loss: 0.01474   val_loss: 0.01635   mean_log_loss: 0.01657\n",
      "Epoch 29/45   loss: 0.01448   val_loss: 0.01631   mean_log_loss: 0.01659\n",
      "Epoch 30/45   loss: 0.01444   val_loss: 0.01631   mean_log_loss: 0.01659\n",
      "Epoch 31/45   loss: 0.01441   val_loss: 0.01630   mean_log_loss: 0.01659\n",
      "Epoch 32/45   loss: 0.01442   val_loss: 0.01630   mean_log_loss: 0.01659\n",
      "Epoch 33/45   loss: 0.01443   val_loss: 0.01629   mean_log_loss: 0.01659\n",
      "Epoch 34/45   loss: 0.01437   val_loss: 0.01633   mean_log_loss: 0.01660\n",
      "Epoch 35/45   loss: 0.01432   val_loss: 0.01633   mean_log_loss: 0.01665\n",
      "Epoch 36/45   loss: 0.01415   val_loss: 0.01638   mean_log_loss: 0.01667\n",
      "Epoch 37/45   loss: 0.01411   val_loss: 0.01636   mean_log_loss: 0.01682\n",
      "Epoch 38/45   loss: 0.01391   val_loss: 0.01658   mean_log_loss: 0.01674\n",
      "Epoch 39/45   loss: 0.01381   val_loss: 0.01666   mean_log_loss: 0.01682\n",
      "Epoch 40/45   loss: 0.01360   val_loss: 0.01666   mean_log_loss: 0.01695\n",
      "Epoch 41/45   loss: 0.01337   val_loss: 0.01654   mean_log_loss: 0.01660\n",
      "Epoch 42/45   loss: 0.01282   val_loss: 0.01670   mean_log_loss: 0.01678\n",
      "Epoch 43/45   loss: 0.01220   val_loss: 0.01672   mean_log_loss: 0.01687\n",
      "Epoch 44/45   loss: 0.01158   val_loss: 0.01672   mean_log_loss: 0.01677\n",
      "Epoch 45/45   loss: 0.01110   val_loss: 0.01681   mean_log_loss: 0.01675\n"
     ]
    },
    {
     "data": {
      "image/png": "[encoded data removed]",
      "text/plain": [
       "<Figure size 432x288 with 1 Axes>"
      ]
     },
     "metadata": {
      "needs_background": "light"
     },
     "output_type": "display_data"
    },
    {
     "name": "stdout",
     "output_type": "stream",
     "text": [
      "\n",
      "\n",
      "----------------------------------------------------------------------------------------------------\n",
      "mean_log_loss(all fold): 0.01608 +- 0.00039\n",
      "----------------------------------------------------------------------------------------------------\n",
      "CPU times: user 1min 21s, sys: 2min 57s, total: 4min 19s\n",
      "Wall time: 4min 40s\n"
     ]
    }
   ],
   "source": [
    "%%time\n",
    "mean_log_loss_list = []\n",
    "best_mean_log_loss = np.inf\n",
    "for n, (idx_trn, idx_val) in enumerate(splitter.split(train_targets, train_targets)):\n",
    "    print('-'*100)\n",
    "    print(f':: start fold {n+1}/{n_splits} at {time.ctime()} ::')\n",
    "    print('-'*100)\n",
    "    X_trn, X_val = train[idx_trn], train[idx_val]\n",
    "    y_trn, y_val = train_targets[idx_trn], train_targets[idx_val]\n",
    "\n",
    "    train_set = MoaDataset(X_trn, y_trn, mode='train')\n",
    "    val_set = MoaDataset(X_val, y_val, mode='train')\n",
    "\n",
    "    dataloaders = {\n",
    "        'train': DataLoader(train_set, **settings['loader']['train']),\n",
    "        'val': DataLoader(val_set, **settings['loader']['val']),\n",
    "    }\n",
    "\n",
    "    model = MoaModel(train.shape[1]).to(device)\n",
    "    checkpoint_path = f'Fold{n+1}of{n_splits}.pt'\n",
    "    optimizer = optim.__getattribute__(settings['optimizer']['name'])(\n",
    "        model.parameters(), **settings['optimizer']['params'])\n",
    "    scheduler = optim.lr_scheduler.__getattribute__(settings['scheduler']['name'])(\n",
    "        optimizer, **settings['scheduler']['params'])\n",
    "    best_loss = {'train': np.inf, 'val': np.inf}\n",
    "\n",
    "    val_losses = []\n",
    "    trn_losses = []\n",
    "    for epoch in range(n_epochs):\n",
    "        epoch_loss = {'train': 0.0, 'val': 0.0}\n",
    "\n",
    "        for phase in ['train', 'val']:\n",
    "            model.train() if phase=='train' else model.eval()\n",
    "\n",
    "            running_loss = 0.0\n",
    "            target_oof = []\n",
    "            pred_oof = []\n",
    "            for i, (x, y) in enumerate(dataloaders[phase]):\n",
    "                x, y = x.to(device), y.to(device)\n",
    "\n",
    "                optimizer.zero_grad()\n",
    "                with torch.set_grad_enabled(phase=='train'):\n",
    "                    preds = model(x)\n",
    "                    loss = criterion(preds, y)\n",
    "                    if phase=='train':\n",
    "                        loss.backward()\n",
    "                        optimizer.step()\n",
    "\n",
    "                running_loss += loss.item() / len(dataloaders[phase])\n",
    "\n",
    "            epoch_loss[phase] = running_loss\n",
    "            if phase=='train':\n",
    "                trn_losses.append(running_loss)\n",
    "            else:\n",
    "                val_losses.append(running_loss)\n",
    "                target_oof.append(y)\n",
    "                pred_oof.append(preds)\n",
    "        scheduler.step()\n",
    "\n",
    "        # score\n",
    "        target_oof = torch.cat(target_oof, dim=0).cpu().numpy()\n",
    "        pred_oof = torch.cat(pred_oof, dim=0).cpu().numpy()\n",
    "        _mean_log_loss = mean_log_loss(target_oof, pred_oof)\n",
    "        \n",
    "        if epoch_loss['val'] < best_loss['val']:\n",
    "            best_loss = epoch_loss\n",
    "            if not DEBUG:\n",
    "                torch.save(model.state_dict(), checkpoint_path)\n",
    "                best_mean_log_loss = _mean_log_loss\n",
    "        print(f\"Epoch {str(epoch+1).zfill(2)}/{n_epochs }   loss: {epoch_loss['train']:5.5f}   val_loss: {epoch_loss['val']:5.5f}   mean_log_loss: {_mean_log_loss:5.5f}\")\n",
    "\n",
    "    # result\n",
    "    print(f'best mean_log_loss: {best_mean_log_loss:5.5f}')\n",
    "    mean_log_loss_list.append(best_mean_log_loss)\n",
    "    # plot\n",
    "    x = np.arange(1, len(trn_losses)+1)\n",
    "    plt.figure()\n",
    "    plt.plot(x[1:], trn_losses[1:], '--.', label='train')\n",
    "    plt.plot(x[1:], val_losses[1:], '--.', label='valid')\n",
    "    plt.title(f\"fold{n+1}/{n_splits} {settings['loss']['name']}\")\n",
    "    plt.grid()\n",
    "    plt.legend()\n",
    "    plt.show()\n",
    "    print('\\n')\n",
    "# result\n",
    "mean_mean_log_loss = np.mean(mean_log_loss_list)\n",
    "std_mean_log_loss = np.std(mean_log_loss_list)\n",
    "print('-'*100)\n",
    "print(f\"mean_log_loss(all fold): {mean_mean_log_loss:5.5f} +- {std_mean_log_loss:5.5f}\")\n",
    "print('-'*100)"
   ]
  },
  {
   "cell_type": "raw",
   "metadata": {},
   "source": [
    "\n",
    "\n",
    "\n",
    "\n",
    "\n",
    "\n",
    "\n",
    "\n",
    "\n",
    "\n",
    "\n",
    "\n",
    "\n",
    "\n",
    "\n",
    "\n",
    "\n",
    "\n",
    "\n",
    "\n",
    "\n",
    "\n",
    "\n",
    "\n",
    "\n"
   ]
  }
 ],
 "metadata": {
  "kernelspec": {
   "display_name": "Python 3",
   "language": "python",
   "name": "python3"
  },
  "language_info": {
   "codemirror_mode": {
    "name": "ipython",
    "version": 3
   },
   "file_extension": ".py",
   "mimetype": "text/x-python",
   "name": "python",
   "nbconvert_exporter": "python",
   "pygments_lexer": "ipython3",
   "version": "3.6.10"
  }
 },
 "nbformat": 4,
 "nbformat_minor": 4
}
